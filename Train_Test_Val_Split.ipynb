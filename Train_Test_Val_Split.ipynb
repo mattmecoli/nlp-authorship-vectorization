{
 "cells": [
  {
   "cell_type": "code",
   "execution_count": 8,
   "metadata": {},
   "outputs": [],
   "source": [
    "import pandas as pd\n",
    "import numpy as np\n",
    "import gensim"
   ]
  },
  {
   "cell_type": "code",
   "execution_count": 5,
   "metadata": {},
   "outputs": [],
   "source": [
    "df = pd.read_csv('nlp-authorship-vectorization/100Paragraphs_150Words.csv', index_col = 0)"
   ]
  },
  {
   "cell_type": "code",
   "execution_count": 23,
   "metadata": {},
   "outputs": [
    {
     "data": {
      "text/html": [
       "<div>\n",
       "<style scoped>\n",
       "    .dataframe tbody tr th:only-of-type {\n",
       "        vertical-align: middle;\n",
       "    }\n",
       "\n",
       "    .dataframe tbody tr th {\n",
       "        vertical-align: top;\n",
       "    }\n",
       "\n",
       "    .dataframe thead th {\n",
       "        text-align: right;\n",
       "    }\n",
       "</style>\n",
       "<table border=\"1\" class=\"dataframe\">\n",
       "  <thead>\n",
       "    <tr style=\"text-align: right;\">\n",
       "      <th></th>\n",
       "      <th>text</th>\n",
       "      <th>author</th>\n",
       "      <th>sex</th>\n",
       "      <th>period</th>\n",
       "    </tr>\n",
       "  </thead>\n",
       "  <tbody>\n",
       "    <tr>\n",
       "      <th>0</th>\n",
       "      <td>him there was more noise than ever over at the...</td>\n",
       "      <td>KateChopin</td>\n",
       "      <td>female</td>\n",
       "      <td>realism</td>\n",
       "    </tr>\n",
       "    <tr>\n",
       "      <th>1</th>\n",
       "      <td>mr pontelliers two children were theresturdy l...</td>\n",
       "      <td>KateChopin</td>\n",
       "      <td>female</td>\n",
       "      <td>realism</td>\n",
       "    </tr>\n",
       "    <tr>\n",
       "      <th>2</th>\n",
       "      <td>mr pontellier he himself had taken a plunge at...</td>\n",
       "      <td>KateChopin</td>\n",
       "      <td>female</td>\n",
       "      <td>realism</td>\n",
       "    </tr>\n",
       "    <tr>\n",
       "      <th>3</th>\n",
       "      <td>summer day mrs pontellier reached over for a p...</td>\n",
       "      <td>KateChopin</td>\n",
       "      <td>female</td>\n",
       "      <td>realism</td>\n",
       "    </tr>\n",
       "    <tr>\n",
       "      <th>4</th>\n",
       "      <td>whence her husband had disappeared robert supp...</td>\n",
       "      <td>KateChopin</td>\n",
       "      <td>female</td>\n",
       "      <td>realism</td>\n",
       "    </tr>\n",
       "  </tbody>\n",
       "</table>\n",
       "</div>"
      ],
      "text/plain": [
       "                                                text      author     sex  \\\n",
       "0  him there was more noise than ever over at the...  KateChopin  female   \n",
       "1  mr pontelliers two children were theresturdy l...  KateChopin  female   \n",
       "2  mr pontellier he himself had taken a plunge at...  KateChopin  female   \n",
       "3  summer day mrs pontellier reached over for a p...  KateChopin  female   \n",
       "4  whence her husband had disappeared robert supp...  KateChopin  female   \n",
       "\n",
       "    period  \n",
       "0  realism  \n",
       "1  realism  \n",
       "2  realism  \n",
       "3  realism  \n",
       "4  realism  "
      ]
     },
     "execution_count": 23,
     "metadata": {},
     "output_type": "execute_result"
    }
   ],
   "source": [
    "df.head()"
   ]
  },
  {
   "cell_type": "code",
   "execution_count": 22,
   "metadata": {},
   "outputs": [
    {
     "data": {
      "text/plain": [
       "['EdithWharton',\n",
       " 'CharlesDickens',\n",
       " 'MargaretFuller',\n",
       " 'NathanielHawthorne',\n",
       " 'FScottFitzgerald',\n",
       " 'MaryWollstonecraft',\n",
       " 'JaneAustin',\n",
       " 'VirginiaWoolf',\n",
       " 'HenryDavidThoreau',\n",
       " 'JackLondon',\n",
       " 'KateChopin',\n",
       " 'MaryShelley',\n",
       " 'MarkTwain',\n",
       " 'JohnLocke']"
      ]
     },
     "execution_count": 22,
     "metadata": {},
     "output_type": "execute_result"
    }
   ],
   "source": [
    "authors = list(set((df['author'])))\n",
    "authors"
   ]
  },
  {
   "cell_type": "code",
   "execution_count": 24,
   "metadata": {},
   "outputs": [],
   "source": [
    "# split \n",
    "def split_by_authors():\n",
    "    df_split ={}\n",
    "    for author in authors:\n",
    "        df_ = df[df['author'] == author]\n",
    "        df_split[author] = df_\n",
    "    return df_split\n",
    "\n",
    "df_by_authors = split_by_authors()"
   ]
  },
  {
   "cell_type": "code",
   "execution_count": 56,
   "metadata": {},
   "outputs": [],
   "source": [
    "train_set_df = pd.DataFrame(columns=list(df.columns))\n",
    "test_set_df = pd.DataFrame(columns=list(df.columns))\n",
    "validation_set_df = pd.DataFrame(columns=list(df.columns))\n",
    "for author in authors:\n",
    "    train_set = df_by_authors[author].sample(70)\n",
    "    test_val_set = df_by_authors[author].drop(train_set.index)\n",
    "    validation_set = test_val_set.sample(5)\n",
    "    test_set = test_val_set.drop(validation_set.index)\n",
    "    train_set_df = pd.concat([train_set_df,train_set])\n",
    "    test_set_df = pd.concat([test_set_df,test_set])\n",
    "    validation_set_df = pd.concat([validation_set_df,validation_set])"
   ]
  },
  {
   "cell_type": "code",
   "execution_count": null,
   "metadata": {},
   "outputs": [],
   "source": [
    "# Doc2Vec- initializing the model\n",
    "model = gensim.models.doc2vec.Doc2Vec(vector_size=50, min_count=2, epochs=40)"
   ]
  }
 ],
 "metadata": {
  "kernelspec": {
   "display_name": "Python 3",
   "language": "python",
   "name": "python3"
  },
  "language_info": {
   "codemirror_mode": {
    "name": "ipython",
    "version": 3
   },
   "file_extension": ".py",
   "mimetype": "text/x-python",
   "name": "python",
   "nbconvert_exporter": "python",
   "pygments_lexer": "ipython3",
   "version": "3.6.5"
  }
 },
 "nbformat": 4,
 "nbformat_minor": 2
}
