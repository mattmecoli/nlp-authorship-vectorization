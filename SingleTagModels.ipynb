{
 "cells": [
  {
   "cell_type": "markdown",
   "metadata": {},
   "source": [
    "This notebook is a rough draft and has not been cleaned or refactored"
   ]
  },
  {
   "cell_type": "code",
   "execution_count": 1,
   "metadata": {},
   "outputs": [],
   "source": [
    "import pandas as pd\n",
    "import numpy as np\n",
    "import gensim\n",
    "import os\n",
    "from gensim.models.doc2vec import *"
   ]
  },
  {
   "cell_type": "code",
   "execution_count": 2,
   "metadata": {},
   "outputs": [],
   "source": [
    "df = pd.read_csv(os.getcwd() + '/' + '100Paragraphs_150Words.csv', index_col = 0)"
   ]
  },
  {
   "cell_type": "code",
   "execution_count": 3,
   "metadata": {},
   "outputs": [
    {
     "data": {
      "text/html": [
       "<div>\n",
       "<style scoped>\n",
       "    .dataframe tbody tr th:only-of-type {\n",
       "        vertical-align: middle;\n",
       "    }\n",
       "\n",
       "    .dataframe tbody tr th {\n",
       "        vertical-align: top;\n",
       "    }\n",
       "\n",
       "    .dataframe thead th {\n",
       "        text-align: right;\n",
       "    }\n",
       "</style>\n",
       "<table border=\"1\" class=\"dataframe\">\n",
       "  <thead>\n",
       "    <tr style=\"text-align: right;\">\n",
       "      <th></th>\n",
       "      <th>text</th>\n",
       "      <th>author</th>\n",
       "      <th>sex</th>\n",
       "      <th>period</th>\n",
       "    </tr>\n",
       "  </thead>\n",
       "  <tbody>\n",
       "    <tr>\n",
       "      <th>0</th>\n",
       "      <td>than ever over at the house the main building ...</td>\n",
       "      <td>KateChopin</td>\n",
       "      <td>female</td>\n",
       "      <td>realism</td>\n",
       "    </tr>\n",
       "    <tr>\n",
       "      <th>1</th>\n",
       "      <td>lost in some inward maze of contemplation or t...</td>\n",
       "      <td>KateChopin</td>\n",
       "      <td>female</td>\n",
       "      <td>realism</td>\n",
       "    </tr>\n",
       "    <tr>\n",
       "      <th>2</th>\n",
       "      <td>about himself he was very young and did not kn...</td>\n",
       "      <td>KateChopin</td>\n",
       "      <td>female</td>\n",
       "      <td>realism</td>\n",
       "    </tr>\n",
       "    <tr>\n",
       "      <th>3</th>\n",
       "      <td>his wife with her inattention her habitual neg...</td>\n",
       "      <td>KateChopin</td>\n",
       "      <td>female</td>\n",
       "      <td>realism</td>\n",
       "    </tr>\n",
       "    <tr>\n",
       "      <th>4</th>\n",
       "      <td>on hand to say goodby to him his wife stood sm...</td>\n",
       "      <td>KateChopin</td>\n",
       "      <td>female</td>\n",
       "      <td>realism</td>\n",
       "    </tr>\n",
       "  </tbody>\n",
       "</table>\n",
       "</div>"
      ],
      "text/plain": [
       "                                                text      author     sex  \\\n",
       "0  than ever over at the house the main building ...  KateChopin  female   \n",
       "1  lost in some inward maze of contemplation or t...  KateChopin  female   \n",
       "2  about himself he was very young and did not kn...  KateChopin  female   \n",
       "3  his wife with her inattention her habitual neg...  KateChopin  female   \n",
       "4  on hand to say goodby to him his wife stood sm...  KateChopin  female   \n",
       "\n",
       "    period  \n",
       "0  realism  \n",
       "1  realism  \n",
       "2  realism  \n",
       "3  realism  \n",
       "4  realism  "
      ]
     },
     "execution_count": 3,
     "metadata": {},
     "output_type": "execute_result"
    }
   ],
   "source": [
    "df.head()"
   ]
  },
  {
   "cell_type": "code",
   "execution_count": 4,
   "metadata": {},
   "outputs": [
    {
     "data": {
      "text/plain": [
       "['MaryWollstonecraft',\n",
       " 'VirginiaWoolf',\n",
       " 'MarkTwain',\n",
       " 'FScottFitzgerald',\n",
       " 'JaneAustin',\n",
       " 'MargaretFuller',\n",
       " 'KateChopin',\n",
       " 'NathanielHawthorne',\n",
       " 'JohnLocke',\n",
       " 'HenryDavidThoreau',\n",
       " 'EdithWharton',\n",
       " 'MaryShelley',\n",
       " 'JackLondon',\n",
       " 'CharlesDickens']"
      ]
     },
     "execution_count": 4,
     "metadata": {},
     "output_type": "execute_result"
    }
   ],
   "source": [
    "authors = list(set((df['author'])))\n",
    "authors"
   ]
  },
  {
   "cell_type": "code",
   "execution_count": 6,
   "metadata": {},
   "outputs": [],
   "source": [
    "# split \n",
    "def split_by_authors():\n",
    "    df_split ={}\n",
    "    for author in authors:\n",
    "        df_ = df[df['author'] == author]\n",
    "        df_split[author] = df_\n",
    "    return df_split\n",
    "\n",
    "df_by_authors = split_by_authors()"
   ]
  },
  {
   "cell_type": "code",
   "execution_count": 7,
   "metadata": {},
   "outputs": [],
   "source": [
    "train_set_df = pd.DataFrame(columns=list(df.columns))\n",
    "test_set_df = pd.DataFrame(columns=list(df.columns))\n",
    "validation_set_df = pd.DataFrame(columns=list(df.columns))\n",
    "for author in authors:\n",
    "    train_set = df_by_authors[author].sample(70)\n",
    "    test_val_set = df_by_authors[author].drop(train_set.index)\n",
    "    validation_set = test_val_set.sample(5)\n",
    "    test_set = test_val_set.drop(validation_set.index)\n",
    "    train_set_df = pd.concat([train_set_df,train_set])\n",
    "    test_set_df = pd.concat([test_set_df,test_set])\n",
    "    validation_set_df = pd.concat([validation_set_df,validation_set])"
   ]
  },
  {
   "cell_type": "code",
   "execution_count": 8,
   "metadata": {},
   "outputs": [],
   "source": [
    "train_set_df = train_set_df.reset_index()\n",
    "test_set_df = test_set_df.reset_index()\n",
    "validation_set_df = validation_set_df.reset_index()"
   ]
  },
  {
   "cell_type": "code",
   "execution_count": null,
   "metadata": {},
   "outputs": [],
   "source": []
  },
  {
   "cell_type": "code",
   "execution_count": 9,
   "metadata": {},
   "outputs": [],
   "source": [
    "# Create TaggedDocument objects for train_corpus\n",
    "train_corpus = []\n",
    "for i in range(0, len(train_set_df)):\n",
    "    doc = TaggedDocument(train_set_df['text'][i].split(), [train_set_df['author'][i]])   \n",
    "    train_corpus.append(doc)"
   ]
  },
  {
   "cell_type": "code",
   "execution_count": 10,
   "metadata": {
    "scrolled": false
   },
   "outputs": [
    {
     "data": {
      "text/plain": [
       "TaggedDocument(words=['almost', 'to', 'adoration', 'truefor', 'never', 'was', 'there', 'a', 'sensualist', 'who', 'paid', 'more', 'fervent', 'adoration', 'at', 'the', 'shrine', 'of', 'beauty', 'so', 'devout', 'indeed', 'was', 'his', 'respect', 'for', 'the', 'person', 'that', 'excepting', 'the', 'virtue', 'of', 'chastity', 'for', 'obvious', 'reasons', 'he', 'only', 'wished', 'to', 'see', 'it', 'embellished', 'by', 'charms', 'weaknesses', 'and', 'errors', 'he', 'was', 'afraid', 'lest', 'the', 'austerity', 'of', 'reason', 'should', 'disturb', 'the', 'soft', 'playfulness', 'of', 'love', 'the', 'master', 'wished', 'to', 'have', 'a', 'meretricious', 'slave', 'to', 'fondle', 'entirely', 'dependent', 'on', 'his', 'reason', 'and', 'bounty', 'he', 'did', 'not', 'want', 'a', 'companion', 'whom', 'he', 'should', 'be', 'compelled', 'to', 'esteem', 'or', 'a', 'friend', 'to', 'whom', 'he', 'could', 'confide', 'the', 'care', 'of', 'his', 'childrens', 'education', 'should', 'death', 'deprive', 'them', 'of', 'their', 'father', 'before', 'he', 'had', 'fulfilled', 'the', 'sacred', 'task', 'he', 'denies', 'woman', 'reason', 'shuts', 'her', 'out', 'from', 'knowledge', 'and', 'turns', 'her', 'aside', 'from', 'truth', 'yet', 'his', 'pardon', 'is', 'granted', 'because', 'he', 'admits', 'the', 'passion', 'of', 'love', 'it', 'would'], tags=['MaryWollstonecraft'])"
      ]
     },
     "execution_count": 10,
     "metadata": {},
     "output_type": "execute_result"
    }
   ],
   "source": [
    "train_corpus[10]"
   ]
  },
  {
   "cell_type": "code",
   "execution_count": 11,
   "metadata": {},
   "outputs": [],
   "source": [
    "# Create TaggedDocument objects for test_corpus\n",
    "test_corpus = []\n",
    "for i in range(0, len(test_set_df)):\n",
    "    doc = test_set_df['text'][i].split()\n",
    "    test_corpus.append(doc)"
   ]
  },
  {
   "cell_type": "code",
   "execution_count": 12,
   "metadata": {},
   "outputs": [
    {
     "data": {
      "text/plain": [
       "['of',\n",
       " 'man',\n",
       " 'the',\n",
       " 'homage',\n",
       " 'of',\n",
       " 'passion',\n",
       " 'man',\n",
       " 'accustomed',\n",
       " 'to',\n",
       " 'bow',\n",
       " 'down',\n",
       " 'to',\n",
       " 'power',\n",
       " 'in',\n",
       " 'his',\n",
       " 'savage',\n",
       " 'state',\n",
       " 'can',\n",
       " 'seldom',\n",
       " 'divest',\n",
       " 'himself',\n",
       " 'of',\n",
       " 'this',\n",
       " 'barbarous',\n",
       " 'prejudice',\n",
       " 'even',\n",
       " 'when',\n",
       " 'civilization',\n",
       " 'determines',\n",
       " 'how',\n",
       " 'much',\n",
       " 'superior',\n",
       " 'mental',\n",
       " 'is',\n",
       " 'to',\n",
       " 'bodily',\n",
       " 'strength',\n",
       " 'and',\n",
       " 'his',\n",
       " 'reason',\n",
       " 'is',\n",
       " 'clouded',\n",
       " 'by',\n",
       " 'these',\n",
       " 'crude',\n",
       " 'opinions',\n",
       " 'even',\n",
       " 'when',\n",
       " 'he',\n",
       " 'thinks',\n",
       " 'of',\n",
       " 'the',\n",
       " 'deity',\n",
       " 'his',\n",
       " 'omnipotence',\n",
       " 'is',\n",
       " 'made',\n",
       " 'to',\n",
       " 'swallow',\n",
       " 'up',\n",
       " 'or',\n",
       " 'preside',\n",
       " 'over',\n",
       " 'his',\n",
       " 'other',\n",
       " 'attributes',\n",
       " 'and',\n",
       " 'those',\n",
       " 'mortals',\n",
       " 'are',\n",
       " 'supposed',\n",
       " 'to',\n",
       " 'limit',\n",
       " 'his',\n",
       " 'power',\n",
       " 'irreverently',\n",
       " 'who',\n",
       " 'think',\n",
       " 'that',\n",
       " 'it',\n",
       " 'must',\n",
       " 'be',\n",
       " 'regulated',\n",
       " 'by',\n",
       " 'his',\n",
       " 'wisdom',\n",
       " 'i',\n",
       " 'disclaim',\n",
       " 'that',\n",
       " 'species',\n",
       " 'of',\n",
       " 'humility',\n",
       " 'which',\n",
       " 'after',\n",
       " 'investigating',\n",
       " 'nature',\n",
       " 'stops',\n",
       " 'at',\n",
       " 'the',\n",
       " 'author',\n",
       " 'the',\n",
       " 'high',\n",
       " 'and',\n",
       " 'lofty',\n",
       " 'one',\n",
       " 'who',\n",
       " 'inhabiteth',\n",
       " 'eternity',\n",
       " 'doubtless',\n",
       " 'possesses',\n",
       " 'many',\n",
       " 'attributes',\n",
       " 'of',\n",
       " 'which',\n",
       " 'we',\n",
       " 'can',\n",
       " 'form',\n",
       " 'no',\n",
       " 'conception',\n",
       " 'but',\n",
       " 'reason',\n",
       " 'tells',\n",
       " 'me',\n",
       " 'that',\n",
       " 'they',\n",
       " 'cannot',\n",
       " 'clash',\n",
       " 'with',\n",
       " 'those',\n",
       " 'i',\n",
       " 'adore',\n",
       " 'and',\n",
       " 'i',\n",
       " 'am',\n",
       " 'compelled',\n",
       " 'to',\n",
       " 'listen',\n",
       " 'to',\n",
       " 'her',\n",
       " 'voice',\n",
       " 'it',\n",
       " 'seems',\n",
       " 'natural',\n",
       " 'for',\n",
       " 'man',\n",
       " 'to',\n",
       " 'search',\n",
       " 'for',\n",
       " 'excellence',\n",
       " 'and',\n",
       " 'either']"
      ]
     },
     "execution_count": 12,
     "metadata": {},
     "output_type": "execute_result"
    }
   ],
   "source": [
    "test_corpus[10]"
   ]
  },
  {
   "cell_type": "code",
   "execution_count": 13,
   "metadata": {},
   "outputs": [],
   "source": [
    "# Declare gyperparamters \n",
    "vec_size = 25\n",
    "min_count = 2\n",
    "epochs = 30\n",
    "alpha = 0.030\n",
    "min_alpha = 0.030"
   ]
  },
  {
   "cell_type": "code",
   "execution_count": 14,
   "metadata": {},
   "outputs": [
    {
     "name": "stdout",
     "output_type": "stream",
     "text": [
      "CPU times: user 9.49 s, sys: 548 ms, total: 10 s\n",
      "Wall time: 4.41 s\n"
     ]
    }
   ],
   "source": [
    "# Doc2Vec - initializing the model\n",
    "\n",
    "model = Doc2Vec(vector_size=vec_size,\n",
    "                min_count=min_count,\n",
    "                epochs=epochs,\n",
    "                alpha = alpha,\n",
    "                min_alpha = min_alpha)\n",
    "\n",
    "model.build_vocab(train_corpus)\n",
    "\n",
    "%time model.train(train_corpus, total_examples=model.corpus_count, epochs=model.epochs)"
   ]
  },
  {
   "cell_type": "code",
   "execution_count": 15,
   "metadata": {},
   "outputs": [
    {
     "data": {
      "text/plain": [
       "14"
      ]
     },
     "execution_count": 15,
     "metadata": {},
     "output_type": "execute_result"
    }
   ],
   "source": [
    "len(model.docvecs)\n",
    "# should be 14\n",
    "# two for gender, seven for periods, and fourteen for authors "
   ]
  },
  {
   "cell_type": "code",
   "execution_count": null,
   "metadata": {},
   "outputs": [],
   "source": [
    "ranks = []\n",
    "second_ranks = []\n",
    "for doc_id in range(len(train_corpus)):\n",
    "    inferred_vector = model.infer_vector(train_corpus[doc_id].words)\n",
    "    sims = model.docvecs.most_similar([inferred_vector], topn=len(model.docvecs))\n",
    "    print(doc_id)\n",
    "    print(sims)\n",
    "    rank = [doc_id for doc_id, sim in sims].index(doc_id)\n",
    "    ranks.append(rank)\n",
    "    \n",
    "    second_ranks.append(sims[1])\n",
    "\n",
    "# see how many it got correct and how many it didn't \n",
    "collections.Counter(ranks)"
   ]
  },
  {
   "cell_type": "code",
   "execution_count": 16,
   "metadata": {},
   "outputs": [
    {
     "data": {
      "text/plain": [
       "TaggedDocument(words=['it', 'should', 'be', 'thought', 'to', 'extend', 'to', 'life', 'and', 'death', 'at', 'any', 'time', 'over', 'their', 'children', 'more', 'than', 'over', 'any', 'body', 'else', 'neither', 'can', 'there', 'be', 'any', 'pretence', 'why', 'this', 'parental', 'power', 'should', 'keep', 'the', 'child', 'when', 'grown', 'to', 'a', 'man', 'in', 'subjection', 'to', 'the', 'will', 'of', 'his', 'parents', 'any', 'farther', 'than', 'having', 'received', 'life', 'and', 'education', 'from', 'his', 'parents', 'obliges', 'him', 'to', 'respect', 'honour', 'gratitude', 'assistance', 'and', 'support', 'all', 'his', 'life', 'to', 'both', 'father', 'and', 'mother', 'and', 'thus', 'tis', 'true', 'the', 'paternal', 'is', 'a', 'natural', 'government', 'but', 'not', 'at', 'all', 'extending', 'itself', 'to', 'the', 'ends', 'and', 'jurisdictions', 'of', 'that', 'which', 'is', 'political', 'the', 'power', 'of', 'the', 'father', 'doth', 'not', 'reach', 'at', 'all', 'to', 'the', 'property', 'of', 'the', 'child', 'which', 'is', 'only', 'in', 'his', 'own', 'disposing', 'sect', '171', 'secondly', 'political', 'power', 'is', 'that', 'power', 'which', 'every', 'man', 'having', 'in', 'the', 'state', 'of', 'nature', 'has', 'given', 'up', 'into', 'the', 'hands', 'of', 'the'], tags=['JohnLocke'])"
      ]
     },
     "execution_count": 16,
     "metadata": {},
     "output_type": "execute_result"
    }
   ],
   "source": [
    "train_corpus[600]"
   ]
  },
  {
   "cell_type": "code",
   "execution_count": 17,
   "metadata": {
    "scrolled": true
   },
   "outputs": [
    {
     "data": {
      "text/plain": [
       "[('JohnLocke', 0.6411967873573303),\n",
       " ('MaryWollstonecraft', 0.562842845916748),\n",
       " ('MargaretFuller', 0.3735983967781067),\n",
       " ('NathanielHawthorne', 0.3670194745063782),\n",
       " ('JackLondon', 0.33635133504867554),\n",
       " ('MarkTwain', 0.3362114727497101),\n",
       " ('JaneAustin', 0.32208365201950073),\n",
       " ('CharlesDickens', 0.29809311032295227),\n",
       " ('VirginiaWoolf', 0.25395870208740234),\n",
       " ('FScottFitzgerald', 0.24994030594825745)]"
      ]
     },
     "execution_count": 17,
     "metadata": {},
     "output_type": "execute_result"
    }
   ],
   "source": [
    "inferred_vector = model.infer_vector(train_corpus[600].words)\n",
    "sims = model.docvecs.most_similar([inferred_vector])\n",
    "# print(inferred_vector)\n",
    "sims"
   ]
  },
  {
   "cell_type": "code",
   "execution_count": 18,
   "metadata": {
    "scrolled": true
   },
   "outputs": [
    {
     "data": {
      "text/plain": [
       "index                                                   683\n",
       "text      but the animal spirits the individual characte...\n",
       "author                                   MaryWollstonecraft\n",
       "sex                                                  female\n",
       "period                                        enlightenment\n",
       "Name: 20, dtype: object"
      ]
     },
     "execution_count": 18,
     "metadata": {},
     "output_type": "execute_result"
    }
   ],
   "source": [
    "test_set_df.loc[20]"
   ]
  },
  {
   "cell_type": "code",
   "execution_count": 19,
   "metadata": {},
   "outputs": [
    {
     "data": {
      "text/plain": [
       "[('MaryWollstonecraft', 0.68779057264328),\n",
       " ('MargaretFuller', 0.4038630723953247),\n",
       " ('NathanielHawthorne', 0.3386878967285156),\n",
       " ('HenryDavidThoreau', 0.3342222571372986),\n",
       " ('MaryShelley', 0.31416055560112),\n",
       " ('VirginiaWoolf', 0.24206586182117462),\n",
       " ('JaneAustin', 0.21889840066432953),\n",
       " ('EdithWharton', 0.21500596404075623),\n",
       " ('JackLondon', 0.1918397843837738),\n",
       " ('MarkTwain', 0.18339398503303528)]"
      ]
     },
     "execution_count": 19,
     "metadata": {},
     "output_type": "execute_result"
    }
   ],
   "source": [
    "inferred_vector = model.infer_vector(test_corpus[20])\n",
    "sims = model.docvecs.most_similar([inferred_vector])\n",
    "# print(inferred_vector)\n",
    "sims[1]\n",
    "sims"
   ]
  },
  {
   "cell_type": "code",
   "execution_count": 23,
   "metadata": {},
   "outputs": [
    {
     "data": {
      "text/plain": [
       "index                                                   765\n",
       "text      whose suspicions were not yet laid to rest ive...\n",
       "author                                        VirginiaWoolf\n",
       "sex                                                  female\n",
       "period                                      early_modernism\n",
       "Name: 40, dtype: object"
      ]
     },
     "execution_count": 23,
     "metadata": {},
     "output_type": "execute_result"
    }
   ],
   "source": [
    "test_set_df.loc[40]"
   ]
  },
  {
   "cell_type": "code",
   "execution_count": 24,
   "metadata": {},
   "outputs": [
    {
     "data": {
      "text/plain": [
       "[('VirginiaWoolf', 0.7001662850379944),\n",
       " ('HenryDavidThoreau', 0.3671192526817322),\n",
       " ('MargaretFuller', 0.35480695962905884),\n",
       " ('JackLondon', 0.33217301964759827),\n",
       " ('NathanielHawthorne', 0.329555481672287),\n",
       " ('FScottFitzgerald', 0.31974852085113525),\n",
       " ('EdithWharton', 0.28611868619918823),\n",
       " ('JaneAustin', 0.27271559834480286),\n",
       " ('MarkTwain', 0.2503357529640198),\n",
       " ('KateChopin', 0.24139408767223358)]"
      ]
     },
     "execution_count": 24,
     "metadata": {},
     "output_type": "execute_result"
    }
   ],
   "source": [
    "inferred_vector = model.infer_vector(test_corpus[40])\n",
    "sims = model.docvecs.most_similar([inferred_vector])\n",
    "# print(inferred_vector)\n",
    "sims[1]\n",
    "sims"
   ]
  },
  {
   "cell_type": "code",
   "execution_count": null,
   "metadata": {},
   "outputs": [],
   "source": [
    "print(sims[1][1])\n",
    "print(type(sims[1][1]))"
   ]
  },
  {
   "cell_type": "code",
   "execution_count": 22,
   "metadata": {},
   "outputs": [
    {
     "data": {
      "text/plain": [
       "{'CharlesDickens': Doctag(offset=13, word_count=10570, doc_count=70),\n",
       " 'EdithWharton': Doctag(offset=10, word_count=10570, doc_count=70),\n",
       " 'FScottFitzgerald': Doctag(offset=3, word_count=10570, doc_count=70),\n",
       " 'HenryDavidThoreau': Doctag(offset=9, word_count=10570, doc_count=70),\n",
       " 'JackLondon': Doctag(offset=12, word_count=10570, doc_count=70),\n",
       " 'JaneAustin': Doctag(offset=4, word_count=10570, doc_count=70),\n",
       " 'JohnLocke': Doctag(offset=8, word_count=10570, doc_count=70),\n",
       " 'KateChopin': Doctag(offset=6, word_count=10570, doc_count=70),\n",
       " 'MargaretFuller': Doctag(offset=5, word_count=10570, doc_count=70),\n",
       " 'MarkTwain': Doctag(offset=2, word_count=10570, doc_count=70),\n",
       " 'MaryShelley': Doctag(offset=11, word_count=10570, doc_count=70),\n",
       " 'MaryWollstonecraft': Doctag(offset=0, word_count=10570, doc_count=70),\n",
       " 'NathanielHawthorne': Doctag(offset=7, word_count=10570, doc_count=70),\n",
       " 'VirginiaWoolf': Doctag(offset=1, word_count=10570, doc_count=70)}"
      ]
     },
     "execution_count": 22,
     "metadata": {},
     "output_type": "execute_result"
    }
   ],
   "source": [
    "model.docvecs.doctags"
   ]
  },
  {
   "cell_type": "code",
   "execution_count": null,
   "metadata": {},
   "outputs": [],
   "source": [
    "model.docvecs.index2entity[0]"
   ]
  },
  {
   "cell_type": "code",
   "execution_count": null,
   "metadata": {
    "scrolled": true
   },
   "outputs": [],
   "source": [
    "model.docvecs.most_similar_to_given\n",
    "model.docvecs.n_similarity\n",
    "model.docvecs.rank\n",
    "model.docvecs.doctag_syn0norm"
   ]
  },
  {
   "cell_type": "code",
   "execution_count": null,
   "metadata": {},
   "outputs": [],
   "source": []
  },
  {
   "cell_type": "markdown",
   "metadata": {},
   "source": [
    "Trying out some of the analogical reasoning"
   ]
  },
  {
   "cell_type": "code",
   "execution_count": null,
   "metadata": {},
   "outputs": [],
   "source": []
  },
  {
   "cell_type": "markdown",
   "metadata": {},
   "source": [
    "THIS WAS FOR OLD MODEL"
   ]
  },
  {
   "cell_type": "code",
   "execution_count": 20,
   "metadata": {},
   "outputs": [
    {
     "data": {
      "text/plain": [
       "[('JohnLocke', 0.7043590545654297),\n",
       " ('JaneAustin', 0.5777753591537476),\n",
       " ('female', 0.4133979082107544),\n",
       " ('MaryShelley', 0.3785366714000702),\n",
       " ('KateChopin', 0.276517391204834),\n",
       " ('enlightenment', 0.2373473048210144),\n",
       " ('victorian', 0.22287753224372864),\n",
       " ('HenryDavidThoreau', 0.08393082022666931),\n",
       " ('gothic/romantic', 0.08032718300819397),\n",
       " ('realism', 0.05206068605184555)]"
      ]
     },
     "execution_count": 20,
     "metadata": {},
     "output_type": "execute_result"
    }
   ],
   "source": [
    "locke_male_to_female = model.docvecs[0] - model.docvecs[2] + model.docvecs[9]\n",
    "sims = model.docvecs.most_similar([locke_male_to_female])\n",
    "sims"
   ]
  },
  {
   "cell_type": "code",
   "execution_count": 21,
   "metadata": {},
   "outputs": [
    {
     "data": {
      "text/plain": [
       "[('MarkTwain', 0.7890018224716187),\n",
       " ('female', 0.32558053731918335),\n",
       " ('realism', 0.3135584592819214),\n",
       " ('MaryWollstonecraft', 0.27268674969673157),\n",
       " ('MaryShelley', 0.1598474681377411),\n",
       " ('MargaretFuller', 0.14321206510066986),\n",
       " ('EdithWharton', 0.133916974067688),\n",
       " ('VirginiaWoolf', 0.06805793195962906),\n",
       " ('JaneAustin', 0.06686685979366302),\n",
       " ('gothic/romantic', 0.030892416834831238)]"
      ]
     },
     "execution_count": 21,
     "metadata": {},
     "output_type": "execute_result"
    }
   ],
   "source": [
    "twain_male_to_female = np.add(np.subtract(model.docvecs[17], model.docvecs[2]), model.docvecs[9])\n",
    "sims = model.docvecs.most_similar([twain_male_to_female])\n",
    "sims"
   ]
  },
  {
   "cell_type": "code",
   "execution_count": null,
   "metadata": {},
   "outputs": [],
   "source": []
  },
  {
   "cell_type": "code",
   "execution_count": null,
   "metadata": {},
   "outputs": [],
   "source": [
    "twain_real_to_vict = model.docvecs[0] - model.docvecs[1] + model.docvecs[6] \n",
    "sims = model.docvecs.most_similar([twain_real_to_vict])\n",
    "sims"
   ]
  },
  {
   "cell_type": "code",
   "execution_count": null,
   "metadata": {},
   "outputs": [],
   "source": [
    "london_male_to_female = model.docvecs[3] - model.docvecs[2] + model.docvecs[7]\n",
    "sims = model.docvecs.most_similar([london_male_to_female])\n",
    "sims"
   ]
  },
  {
   "cell_type": "code",
   "execution_count": null,
   "metadata": {},
   "outputs": [],
   "source": [
    "london_nat_to_goth = model.docvecs[3] - model.docvecs[4] + model.docvecs[11]\n",
    "sims = model.docvecs.most_similar([london_nat_to_goth])\n",
    "sims"
   ]
  },
  {
   "cell_type": "code",
   "execution_count": null,
   "metadata": {},
   "outputs": [],
   "source": [
    "hawthorne_to_london = model.docvecs[] - model.docvecs[4] + model.docvecs[11]"
   ]
  },
  {
   "cell_type": "code",
   "execution_count": null,
   "metadata": {},
   "outputs": [],
   "source": []
  },
  {
   "cell_type": "code",
   "execution_count": null,
   "metadata": {},
   "outputs": [],
   "source": []
  },
  {
   "cell_type": "code",
   "execution_count": null,
   "metadata": {},
   "outputs": [],
   "source": []
  },
  {
   "cell_type": "code",
   "execution_count": null,
   "metadata": {},
   "outputs": [],
   "source": []
  },
  {
   "cell_type": "code",
   "execution_count": null,
   "metadata": {},
   "outputs": [],
   "source": []
  }
 ],
 "metadata": {
  "kernelspec": {
   "display_name": "Python 3",
   "language": "python",
   "name": "python3"
  },
  "language_info": {
   "codemirror_mode": {
    "name": "ipython",
    "version": 3
   },
   "file_extension": ".py",
   "mimetype": "text/x-python",
   "name": "python",
   "nbconvert_exporter": "python",
   "pygments_lexer": "ipython3",
   "version": "3.5.6"
  }
 },
 "nbformat": 4,
 "nbformat_minor": 2
}
