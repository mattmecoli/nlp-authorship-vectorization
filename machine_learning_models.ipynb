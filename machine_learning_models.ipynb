{
 "cells": [
  {
   "cell_type": "code",
   "execution_count": 1,
   "metadata": {},
   "outputs": [],
   "source": [
    "import pandas as pd\n",
    "import numpy as np\n",
    "\n",
    "# Set styling parameters\n",
    "import matplotlib.pyplot as plt\n",
    "from matplotlib.pylab import rcParams\n",
    "import seaborn as sns\n",
    "\n",
    "rcParams['figure.figsize'] = 15, 6\n",
    "plt.style.use('fivethirtyeight')\n",
    "%matplotlib inline\n",
    "\n",
    "from sklearn.model_selection import train_test_split\n",
    "from sklearn.metrics import accuracy_score"
   ]
  },
  {
   "cell_type": "code",
   "execution_count": null,
   "metadata": {},
   "outputs": [],
   "source": []
  },
  {
   "cell_type": "markdown",
   "metadata": {},
   "source": [
    "### Getting & Processing Data"
   ]
  },
  {
   "cell_type": "code",
   "execution_count": null,
   "metadata": {},
   "outputs": [],
   "source": [
    "df = pd.read_csv(os.getcwd() + '/' + '100Paragraphs_150Words.csv', index_col = 0)\n",
    "\n"
   ]
  },
  {
   "cell_type": "code",
   "execution_count": null,
   "metadata": {},
   "outputs": [],
   "source": []
  },
  {
   "cell_type": "markdown",
   "metadata": {},
   "source": [
    "### Naive Bayes"
   ]
  },
  {
   "cell_type": "code",
   "execution_count": null,
   "metadata": {},
   "outputs": [],
   "source": [
    "from sklearn.naive_bayes import GaussianNB, BernoulliNB, MultinomialNB"
   ]
  },
  {
   "cell_type": "code",
   "execution_count": null,
   "metadata": {},
   "outputs": [],
   "source": [
    "# Predicting on Sex \n",
    "titanic_labels = df.loc[:,'Survived']\n",
    "nb_labels_sex = df[]\n",
    "\n",
    "sliced_df = df.loc[:, ['Sex', \"is_child\", \"is_wealthy\", \"SibSp\", \"Parch\"]]\n",
    "\n",
    "\n",
    "nb_X_train_sex, nb_X_test_sex, nb_y_train_sex, nb_y_test_sex = train_test_split()\n",
    "\n",
    "# Predicting on period\n",
    "\n",
    "nb_X_train_sex, nb_X_test_sex, nb_y_train_sex, nb_y_test_sex = train_test_split()\n",
    "\n",
    "\n",
    "# Predicting on author\n"
   ]
  },
  {
   "cell_type": "code",
   "execution_count": null,
   "metadata": {},
   "outputs": [],
   "source": [
    "bernoulli_clf = BernoulliNB()\n",
    "# remember to fit this classifier using the appropriate method!\n",
    "bernoulli_clf.fit(bernoulli_X_train, bernoulli_y_train)\n",
    "\n",
    "bernoulli_preds = bernoulli_clf.predict(bernoulli_X_test)\n",
    "bernoulli_accuracy = accuracy_score(bernoulli_y_test, bernoulli_preds)\n",
    "print(\"Accuracy on Testing Set from BernoulliNB Classifier: {:.4}%\".format(bernoulli_accuracy * 100))"
   ]
  },
  {
   "cell_type": "code",
   "execution_count": null,
   "metadata": {},
   "outputs": [],
   "source": []
  },
  {
   "cell_type": "code",
   "execution_count": null,
   "metadata": {},
   "outputs": [],
   "source": []
  },
  {
   "cell_type": "code",
   "execution_count": null,
   "metadata": {},
   "outputs": [],
   "source": []
  },
  {
   "cell_type": "code",
   "execution_count": null,
   "metadata": {},
   "outputs": [],
   "source": [
    "mnb_clf = MultinomialNB()\n",
    "# Remember to fit the classifier using the appropriate method below!\n",
    "mnb_clf.fit(mnb_X_train, mnb_y_train)\n",
    "mnb_preds = mnb_clf.predict(mnb_X_test)\n",
    "mnb_testing_accuracy = accuracy_score(mnb_y_test, mnb_preds)\n",
    "\n",
    "print(\"Testing Accuracy for Titanic Dataset with Multinomial Naive Bayesian Classifier: {:.4}%\".format(mnb_testing_accuracy * 100))"
   ]
  },
  {
   "cell_type": "code",
   "execution_count": null,
   "metadata": {},
   "outputs": [],
   "source": []
  },
  {
   "cell_type": "code",
   "execution_count": null,
   "metadata": {},
   "outputs": [],
   "source": [
    "# we recognize GaussianNB isn't exaclty 'appropriate' here, but it was good practice and it took about 10 seconds\n",
    "# so we did it anyway, feel free to drop it"
   ]
  },
  {
   "cell_type": "code",
   "execution_count": null,
   "metadata": {},
   "outputs": [],
   "source": [
    "gaussian_clf = GaussianNB()\n",
    "\n",
    "gaussian_clf.fit(iris_X_train, iris_y_train)\n",
    "# Remember to fit the classifier using the appropriate method!\n",
    "\n",
    "iris_predictions = gaussian_clf.predict(iris_X_test)\n",
    "iris_testing_accuracy = accuracy_score(iris_y_test, iris_predictions)\n",
    "\n",
    "print(\"Testing Accuracy for Iris Dataset with Gaussian Naive Bayesian Classifier: {:.4}%\".format(iris_testing_accuracy * 100))"
   ]
  },
  {
   "cell_type": "code",
   "execution_count": null,
   "metadata": {},
   "outputs": [],
   "source": []
  },
  {
   "cell_type": "markdown",
   "metadata": {},
   "source": [
    "### Bag of Words & TF-IDF"
   ]
  },
  {
   "cell_type": "code",
   "execution_count": null,
   "metadata": {},
   "outputs": [],
   "source": [
    "from sklearn.manifold import TSNE\n",
    "from sklearn.feature_extraction.text import TfidfVectorizer, CountVectorizer, TfidfTransformer\n",
    "from nltk.tokenize import word_tokenize\n",
    "from sklearn.metrics.pairwise import cosine_similarity"
   ]
  },
  {
   "cell_type": "code",
   "execution_count": null,
   "metadata": {},
   "outputs": [],
   "source": [
    "vect = CountVectorizer(min_df = 3, stop_words=\"english\")\n",
    "vect.fit()\n",
    "= vect.transform()\n",
    "\n",
    "#consider setting max_features"
   ]
  },
  {
   "cell_type": "code",
   "execution_count": null,
   "metadata": {},
   "outputs": [],
   "source": [
    "TfidfTransformer"
   ]
  },
  {
   "cell_type": "code",
   "execution_count": null,
   "metadata": {},
   "outputs": [],
   "source": [
    "#worth nothing that TfidfVectorizer first performs CountVectorizer and then TfidfTransfomer, but since we're\n",
    "#already running countvectorizer, we just used transformer here."
   ]
  },
  {
   "cell_type": "code",
   "execution_count": null,
   "metadata": {},
   "outputs": [],
   "source": []
  }
 ],
 "metadata": {
  "kernelspec": {
   "display_name": "Python 3",
   "language": "python",
   "name": "python3"
  },
  "language_info": {
   "codemirror_mode": {
    "name": "ipython",
    "version": 3
   },
   "file_extension": ".py",
   "mimetype": "text/x-python",
   "name": "python",
   "nbconvert_exporter": "python",
   "pygments_lexer": "ipython3",
   "version": "3.5.6"
  }
 },
 "nbformat": 4,
 "nbformat_minor": 2
}
