{
 "cells": [
  {
   "cell_type": "code",
   "execution_count": 76,
   "metadata": {},
   "outputs": [],
   "source": [
    "import pandas as pd\n",
    "import numpy as np\n",
    "from pathlib import Path\n",
    "\n",
    "# Set styling parameters\n",
    "import matplotlib.pyplot as plt\n",
    "from matplotlib.pylab import rcParams\n",
    "import seaborn as sns\n",
    "\n",
    "rcParams['figure.figsize'] = 15, 6\n",
    "plt.style.use('fivethirtyeight')\n",
    "%matplotlib inline\n",
    "\n",
    "from sklearn.model_selection import train_test_split, GridSearchCV\n",
    "from sklearn.metrics import accuracy_score, roc_auc_score, precision_score\n",
    "from sklearn.cross_validation import KFold\n",
    "from sklearn.pipeline import make_pipeline"
   ]
  },
  {
   "cell_type": "code",
   "execution_count": 16,
   "metadata": {},
   "outputs": [
    {
     "data": {
      "text/plain": [
       "0    fell together as modest people will in the tai...\n",
       "1    that he ran away as he were wood demented for ...\n",
       "2    had ye not been therefore to yield us unto him...\n",
       "3    the advantage so i judged it best to humor him...\n",
       "4    girls were always naked but nobody seemed to k...\n",
       "Name: text, dtype: object"
      ]
     },
     "execution_count": 16,
     "metadata": {},
     "output_type": "execute_result"
    }
   ],
   "source": [
    "sliced_df.head()"
   ]
  },
  {
   "cell_type": "markdown",
   "metadata": {},
   "source": [
    "### Getting & Processing Data"
   ]
  },
  {
   "cell_type": "code",
   "execution_count": 125,
   "metadata": {},
   "outputs": [],
   "source": [
    "df = pd.read_csv(Path.cwd().joinpath('250Paragraphs_150Words.csv'), index_col = 0)\n",
    "\n",
    "sliced_df = df.loc[:, 'text']\n",
    "labels_sex = df.loc[:, 'sex']\n",
    "labels_period = df.loc[:, 'period']\n",
    "labels_author = df.loc[:, 'author']\n",
    "\n",
    "#note that we can call all_labels and see our names, should we forget them later\n",
    "all_labels = {'sex': labels_sex, 'period': labels_period, 'author': labels_author}"
   ]
  },
  {
   "cell_type": "code",
   "execution_count": 33,
   "metadata": {},
   "outputs": [],
   "source": [
    "# Templates for various predictions \n",
    "\n",
    "# Predicting on Sex \n",
    "\n",
    "nb_X_train_sex, nb_X_test_sex, nb_y_train_sex, nb_y_test_sex = train_test_split(** transformed data **, nb_labels_sex)\n",
    "\n",
    "\n",
    "# Predicting on period\n",
    "\n",
    "nb_X_train_period, nb_X_test_period, nb_y_train_period, nb_y_test_period = train_test_split(** transformed data **, nb_labels_period)\n",
    "\n",
    "\n",
    "# Predicting on author\n",
    "\n",
    "nb_X_train_author, nb_X_test_author, nb_y_train_author, nb_y_test_author = train_test_split(** transformed data **, nb_labels_author)\n"
   ]
  },
  {
   "cell_type": "markdown",
   "metadata": {},
   "source": [
    "### Bag of Words & TF-IDF"
   ]
  },
  {
   "cell_type": "code",
   "execution_count": 11,
   "metadata": {},
   "outputs": [],
   "source": [
    "from sklearn.manifold import TSNE\n",
    "from sklearn.feature_extraction.text import TfidfVectorizer, CountVectorizer, TfidfTransformer\n",
    "from nltk.tokenize import word_tokenize\n",
    "from sklearn.metrics.pairwise import cosine_similarity"
   ]
  },
  {
   "cell_type": "code",
   "execution_count": null,
   "metadata": {},
   "outputs": [],
   "source": [
    "# max_df and min_df work interestingly\n",
    "# they can either be a float value between 0.0 and 1.0\n",
    "# in which case they represent a proportion of the documents - i.e. .98 = 98% of the docs\n",
    "# or they can be an integer\n",
    "# in which case they can be an absolute count - i.e. 2 = 2 out of all documents"
   ]
  },
  {
   "cell_type": "code",
   "execution_count": 59,
   "metadata": {},
   "outputs": [],
   "source": [
    "# I'm creating this dictionary so the transformed vectors can be easily referenced throughout the doc\n",
    "transformed_vectors = {}"
   ]
  },
  {
   "cell_type": "code",
   "execution_count": 60,
   "metadata": {},
   "outputs": [],
   "source": [
    "#Bag of Words without n-grams\n",
    "\n",
    "count_vec = CountVectorizer(min_df = 2, max_df = .98, stop_words=\"english\")\n",
    "count_vec.fit(sliced_df)\n",
    "count_vec_transformed = count_vec.transform(sliced_df)\n",
    "transformed_vectors['count_vec_transformed'] = count_vec_transformed"
   ]
  },
  {
   "cell_type": "code",
   "execution_count": 15,
   "metadata": {},
   "outputs": [
    {
     "data": {
      "text/plain": [
       "<3500x14125 sparse matrix of type '<class 'numpy.int64'>'\n",
       "\twith 184397 stored elements in Compressed Sparse Row format>"
      ]
     },
     "execution_count": 15,
     "metadata": {},
     "output_type": "execute_result"
    }
   ],
   "source": [
    "# Taking a look at our transformed data - a sparse matrix \n",
    "count_vec_transformed"
   ]
  },
  {
   "cell_type": "code",
   "execution_count": 62,
   "metadata": {},
   "outputs": [],
   "source": [
    "#Bag of Words - bigrams\n",
    "\n",
    "count_vec_bigrams = CountVectorizer(min_df = 2, max_df = .98, stop_words=\"english\", ngram_range=(1,2))\n",
    "count_vec_bigrams.fit(sliced_df)\n",
    "count_vec_bigrams_transformed = count_vec_bigrams.transform(sliced_df)\n",
    "transformed_vectors['count_vec_bigrams_transformed'] = count_vec_bigrams_transformed"
   ]
  },
  {
   "cell_type": "code",
   "execution_count": 63,
   "metadata": {},
   "outputs": [],
   "source": [
    "#Bag of Words - trigrams\n",
    "\n",
    "count_vec_trigrams = CountVectorizer(min_df = 2, max_df = .98, stop_words=\"english\", ngram_range=(1,3))\n",
    "count_vec_trigrams.fit(sliced_df)\n",
    "count_vec_trigrams_transformed = count_vec_trigrams.transform(sliced_df)\n",
    "transformed_vectors['count_vec_trigrams_transformed'] = count_vec_trigrams_transformed"
   ]
  },
  {
   "cell_type": "code",
   "execution_count": 64,
   "metadata": {},
   "outputs": [],
   "source": [
    "#TFIDF without n-grams\n",
    "\n",
    "tfidf_vec = TfidfVectorizer(min_df = 2, max_df = .98, stop_words='english')\n",
    "tfidf_vec.fit(sliced_df)\n",
    "tfidf_vec_transformed = tfidf_vec.transform(sliced_df)\n",
    "transformed_vectors['tfidf_vec_transformed'] = tfidf_vec_transformed"
   ]
  },
  {
   "cell_type": "code",
   "execution_count": 65,
   "metadata": {},
   "outputs": [],
   "source": [
    "#TFIDF - bigrams\n",
    "\n",
    "tfidf_vec_bigrams = TfidfVectorizer(min_df = 2, max_df = .98, stop_words='english', ngram_range=(1,2))\n",
    "tfidf_vec_bigrams.fit(sliced_df)\n",
    "tfidf_vec_bigrams_transformed = tfidf_vec.transform(sliced_df)\n",
    "transformed_vectors['tfidf_vec_bigrams_transformed'] = tfidf_vec_bigrams_transformed"
   ]
  },
  {
   "cell_type": "code",
   "execution_count": 66,
   "metadata": {},
   "outputs": [],
   "source": [
    "#TFIDF - trigrams\n",
    "\n",
    "tfidf_vec_trigrams = TfidfVectorizer(min_df = 2, max_df = .98, stop_words='english', ngram_range=(1,3))\n",
    "tfidf_vec_trigrams.fit(sliced_df)\n",
    "tfidf_vec_trigrams_transformed = tfidf_vec.transform(sliced_df)\n",
    "transformed_vectors['tfidf_vec_trigrams_transformed'] = tfidf_vec_trigrams_transformed"
   ]
  },
  {
   "cell_type": "code",
   "execution_count": 67,
   "metadata": {},
   "outputs": [],
   "source": [
    "# worth noting that TfidfVectorizer first performs CountVectorizer and then TfidfTransfomer, so since we're\n",
    "# already running countvectorizer, we could use the transformer on that output if we were so inclined"
   ]
  },
  {
   "cell_type": "code",
   "execution_count": 146,
   "metadata": {},
   "outputs": [],
   "source": [
    "transformed_vectors_all = transformed_vectors\n",
    "del transformed_vectors['tfidf_vec_trigrams_transformed']\n",
    "del transformed_vectors['count_vec_trigrams_transformed']"
   ]
  },
  {
   "cell_type": "code",
   "execution_count": 147,
   "metadata": {},
   "outputs": [
    {
     "data": {
      "text/plain": [
       "{'count_vec_bigrams_transformed': <3500x23695 sparse matrix of type '<class 'numpy.int64'>'\n",
       " \twith 209166 stored elements in Compressed Sparse Row format>,\n",
       " 'count_vec_transformed': <3500x14125 sparse matrix of type '<class 'numpy.int64'>'\n",
       " \twith 184397 stored elements in Compressed Sparse Row format>,\n",
       " 'tfidf_vec_bigrams_transformed': <3500x14125 sparse matrix of type '<class 'numpy.float64'>'\n",
       " \twith 184397 stored elements in Compressed Sparse Row format>,\n",
       " 'tfidf_vec_transformed': <3500x14125 sparse matrix of type '<class 'numpy.float64'>'\n",
       " \twith 184397 stored elements in Compressed Sparse Row format>}"
      ]
     },
     "execution_count": 147,
     "metadata": {},
     "output_type": "execute_result"
    }
   ],
   "source": [
    "transformed_vectors"
   ]
  },
  {
   "cell_type": "markdown",
   "metadata": {},
   "source": [
    "### Naive Bayes\n",
    "\n",
    "Ran multiple versions. All testing was classification on sex (binary). Multi-categorical classification (period and author) was done with ensemble methdods."
   ]
  },
  {
   "cell_type": "code",
   "execution_count": null,
   "metadata": {},
   "outputs": [],
   "source": [
    "from sklearn.naive_bayes import GaussianNB, BernoulliNB, MultinomialNB\n",
    "\n",
    "# we recognize GaussianNB isn't exaclty 'appropriate' here, but it was good practice to build one\n",
    "# and it took about 10 seconds so we did it anyway for the first round, feel free to drop it"
   ]
  },
  {
   "cell_type": "markdown",
   "metadata": {},
   "source": [
    "##### Bag of Words without n-grams"
   ]
  },
  {
   "cell_type": "code",
   "execution_count": 41,
   "metadata": {},
   "outputs": [],
   "source": [
    "nb_X_train_sex, nb_X_test_sex, nb_y_train_sex, nb_y_test_sex = train_test_split(count_vec_transformed, \n",
    "                                                                                nb_labels_sex)"
   ]
  },
  {
   "cell_type": "markdown",
   "metadata": {},
   "source": [
    "BernoulliNB"
   ]
  },
  {
   "cell_type": "code",
   "execution_count": 42,
   "metadata": {
    "scrolled": true
   },
   "outputs": [
    {
     "name": "stdout",
     "output_type": "stream",
     "text": [
      "Accuracy on Training Set from BernoulliNB Classifier: 98.7%\n",
      "Accuracy on Testing Set from BernoulliNB Classifier: 88.11%\n"
     ]
    }
   ],
   "source": [
    "bernoulli_clf = BernoulliNB()\n",
    "bernoulli_clf.fit(nb_X_train_sex, nb_y_train_sex)\n",
    "\n",
    "bernoulli_train_preds = bernoulli_clf.predict(nb_X_train_sex)\n",
    "bernoulli_test_preds = bernoulli_clf.predict(nb_X_test_sex)\n",
    "\n",
    "bernoulli_train_accuracy = accuracy_score(nb_y_train_sex, bernoulli_train_preds)\n",
    "bernoulli_test_accuracy = accuracy_score(nb_y_test_sex, bernoulli_test_preds)\n",
    "\n",
    "print(\"Accuracy on Training Set from BernoulliNB Classifier: {:.4}%\".format(bernoulli_train_accuracy * 100))\n",
    "print(\"Accuracy on Testing Set from BernoulliNB Classifier: {:.4}%\".format(bernoulli_test_accuracy * 100))"
   ]
  },
  {
   "cell_type": "markdown",
   "metadata": {},
   "source": [
    "MultinomialNB"
   ]
  },
  {
   "cell_type": "code",
   "execution_count": 43,
   "metadata": {},
   "outputs": [
    {
     "name": "stdout",
     "output_type": "stream",
     "text": [
      "Accuracy on Training Set from MultinomialNB Classifier: 98.32%\n",
      "Accuracy on Testing Set from MultinomialNB Classifier:: 87.66%\n"
     ]
    }
   ],
   "source": [
    "mnb_clf = MultinomialNB()\n",
    "mnb_clf.fit(nb_X_train_sex, nb_y_train_sex)\n",
    "\n",
    "mnb_train_preds = mnb_clf.predict(nb_X_train_sex)\n",
    "mnb_test_preds = mnb_clf.predict(nb_X_test_sex)\n",
    "\n",
    "mnb_train_accuracy = accuracy_score(nb_y_train_sex, mnb_train_preds)\n",
    "mnb_test_accuracy = accuracy_score(nb_y_test_sex, mnb_test_preds)\n",
    "\n",
    "print(\"Accuracy on Training Set from MultinomialNB Classifier: {:.4}%\".format(mnb_train_accuracy * 100))\n",
    "print(\"Accuracy on Testing Set from MultinomialNB Classifier:: {:.4}%\".format(mnb_test_accuracy * 100))"
   ]
  },
  {
   "cell_type": "markdown",
   "metadata": {},
   "source": [
    "GaussianNB"
   ]
  },
  {
   "cell_type": "code",
   "execution_count": 44,
   "metadata": {},
   "outputs": [
    {
     "name": "stdout",
     "output_type": "stream",
     "text": [
      "Accuracy on Training Set from GaussianNB Classifier: 99.24%\n",
      "Accuracy on Testing Set from GaussianNB Classifier::  80.8%\n"
     ]
    }
   ],
   "source": [
    "gaussian_clf = GaussianNB()\n",
    "gaussian_clf.fit(nb_X_train_sex.toarray(), nb_y_train_sex)\n",
    "\n",
    "gaussian_train_preds = gaussian_clf.predict(nb_X_train_sex.toarray())\n",
    "gaussian_test_preds = gaussian_clf.predict(nb_X_test_sex.toarray())\n",
    "\n",
    "gaussian_train_accuracy = accuracy_score(nb_y_train_sex, gaussian_train_preds)\n",
    "gaussian_test_accuracy = accuracy_score(nb_y_test_sex, gaussian_test_preds)\n",
    "\n",
    "print(\"Accuracy on Training Set from GaussianNB Classifier: {:.4}%\".format(gaussian_train_accuracy * 100))\n",
    "print(\"Accuracy on Testing Set from GaussianNB Classifier::  {:.4}%\".format(gaussian_test_accuracy * 100))"
   ]
  },
  {
   "cell_type": "markdown",
   "metadata": {},
   "source": [
    "##### Bag of Words - bigrams"
   ]
  },
  {
   "cell_type": "code",
   "execution_count": 45,
   "metadata": {},
   "outputs": [],
   "source": [
    "nb_X_train_sex, nb_X_test_sex, nb_y_train_sex, nb_y_test_sex = train_test_split(count_vec_bigrams_transformed, \n",
    "                                                                                nb_labels_sex)"
   ]
  },
  {
   "cell_type": "markdown",
   "metadata": {},
   "source": [
    "BernoulliNB"
   ]
  },
  {
   "cell_type": "code",
   "execution_count": 46,
   "metadata": {
    "scrolled": true
   },
   "outputs": [
    {
     "name": "stdout",
     "output_type": "stream",
     "text": [
      "Accuracy on Training Set from BernoulliNB Classifier: 99.7%\n",
      "Accuracy on Testing Set from BernoulliNB Classifier: 88.91%\n"
     ]
    }
   ],
   "source": [
    "bernoulli_clf = BernoulliNB()\n",
    "bernoulli_clf.fit(nb_X_train_sex, nb_y_train_sex)\n",
    "\n",
    "bernoulli_train_preds = bernoulli_clf.predict(nb_X_train_sex)\n",
    "bernoulli_test_preds = bernoulli_clf.predict(nb_X_test_sex)\n",
    "\n",
    "bernoulli_train_accuracy = accuracy_score(nb_y_train_sex, bernoulli_train_preds)\n",
    "bernoulli_test_accuracy = accuracy_score(nb_y_test_sex, bernoulli_test_preds)\n",
    "\n",
    "print(\"Accuracy on Training Set from BernoulliNB Classifier: {:.4}%\".format(bernoulli_train_accuracy * 100))\n",
    "print(\"Accuracy on Testing Set from BernoulliNB Classifier: {:.4}%\".format(bernoulli_test_accuracy * 100))"
   ]
  },
  {
   "cell_type": "markdown",
   "metadata": {},
   "source": [
    "MultinomialNB"
   ]
  },
  {
   "cell_type": "code",
   "execution_count": 47,
   "metadata": {},
   "outputs": [
    {
     "name": "stdout",
     "output_type": "stream",
     "text": [
      "Accuracy on Training Set from MultinomialNB Classifier: 99.54%\n",
      "Accuracy on Testing Set from MultinomialNB Classifier:: 89.14%\n"
     ]
    }
   ],
   "source": [
    "mnb_clf = MultinomialNB()\n",
    "mnb_clf.fit(nb_X_train_sex, nb_y_train_sex)\n",
    "\n",
    "mnb_train_preds = mnb_clf.predict(nb_X_train_sex)\n",
    "mnb_test_preds = mnb_clf.predict(nb_X_test_sex)\n",
    "\n",
    "mnb_train_accuracy = accuracy_score(nb_y_train_sex, mnb_train_preds)\n",
    "mnb_test_accuracy = accuracy_score(nb_y_test_sex, mnb_test_preds)\n",
    "\n",
    "print(\"Accuracy on Training Set from MultinomialNB Classifier: {:.4}%\".format(mnb_train_accuracy * 100))\n",
    "print(\"Accuracy on Testing Set from MultinomialNB Classifier:: {:.4}%\".format(mnb_test_accuracy * 100))"
   ]
  },
  {
   "cell_type": "markdown",
   "metadata": {},
   "source": [
    "##### TFIDF without n-grams"
   ]
  },
  {
   "cell_type": "code",
   "execution_count": 48,
   "metadata": {},
   "outputs": [],
   "source": [
    "nb_X_train_sex, nb_X_test_sex, nb_y_train_sex, nb_y_test_sex = train_test_split(tfidf_vec_transformed, \n",
    "                                                                                nb_labels_sex)"
   ]
  },
  {
   "cell_type": "markdown",
   "metadata": {},
   "source": [
    "BernoulliNB"
   ]
  },
  {
   "cell_type": "code",
   "execution_count": 49,
   "metadata": {
    "scrolled": true
   },
   "outputs": [
    {
     "name": "stdout",
     "output_type": "stream",
     "text": [
      "Accuracy on Training Set from BernoulliNB Classifier: 98.86%\n",
      "Accuracy on Testing Set from BernoulliNB Classifier: 86.4%\n"
     ]
    }
   ],
   "source": [
    "bernoulli_clf = BernoulliNB()\n",
    "bernoulli_clf.fit(nb_X_train_sex, nb_y_train_sex)\n",
    "\n",
    "bernoulli_train_preds = bernoulli_clf.predict(nb_X_train_sex)\n",
    "bernoulli_test_preds = bernoulli_clf.predict(nb_X_test_sex)\n",
    "\n",
    "bernoulli_train_accuracy = accuracy_score(nb_y_train_sex, bernoulli_train_preds)\n",
    "bernoulli_test_accuracy = accuracy_score(nb_y_test_sex, bernoulli_test_preds)\n",
    "\n",
    "print(\"Accuracy on Training Set from BernoulliNB Classifier: {:.4}%\".format(bernoulli_train_accuracy * 100))\n",
    "print(\"Accuracy on Testing Set from BernoulliNB Classifier: {:.4}%\".format(bernoulli_test_accuracy * 100))"
   ]
  },
  {
   "cell_type": "markdown",
   "metadata": {},
   "source": [
    "MultinomialNB"
   ]
  },
  {
   "cell_type": "code",
   "execution_count": 50,
   "metadata": {},
   "outputs": [
    {
     "name": "stdout",
     "output_type": "stream",
     "text": [
      "Accuracy on Training Set from MultinomialNB Classifier: 97.56%\n",
      "Accuracy on Testing Set from MultinomialNB Classifier:: 84.46%\n"
     ]
    }
   ],
   "source": [
    "mnb_clf = MultinomialNB()\n",
    "mnb_clf.fit(nb_X_train_sex, nb_y_train_sex)\n",
    "\n",
    "mnb_train_preds = mnb_clf.predict(nb_X_train_sex)\n",
    "mnb_test_preds = mnb_clf.predict(nb_X_test_sex)\n",
    "\n",
    "mnb_train_accuracy = accuracy_score(nb_y_train_sex, mnb_train_preds)\n",
    "mnb_test_accuracy = accuracy_score(nb_y_test_sex, mnb_test_preds)\n",
    "\n",
    "print(\"Accuracy on Training Set from MultinomialNB Classifier: {:.4}%\".format(mnb_train_accuracy * 100))\n",
    "print(\"Accuracy on Testing Set from MultinomialNB Classifier:: {:.4}%\".format(mnb_test_accuracy * 100))"
   ]
  },
  {
   "cell_type": "markdown",
   "metadata": {},
   "source": [
    "##### TFIDF - bigrams"
   ]
  },
  {
   "cell_type": "code",
   "execution_count": 51,
   "metadata": {},
   "outputs": [],
   "source": [
    "nb_X_train_sex, nb_X_test_sex, nb_y_train_sex, nb_y_test_sex = train_test_split(tfidf_vec_bigrams_transformed, \n",
    "                                                                                nb_labels_sex)"
   ]
  },
  {
   "cell_type": "markdown",
   "metadata": {},
   "source": [
    "BernoulliNB"
   ]
  },
  {
   "cell_type": "code",
   "execution_count": 52,
   "metadata": {
    "scrolled": true
   },
   "outputs": [
    {
     "name": "stdout",
     "output_type": "stream",
     "text": [
      "Accuracy on Training Set from BernoulliNB Classifier: 98.74%\n",
      "Accuracy on Testing Set from BernoulliNB Classifier: 88.23%\n"
     ]
    }
   ],
   "source": [
    "bernoulli_clf = BernoulliNB()\n",
    "bernoulli_clf.fit(nb_X_train_sex, nb_y_train_sex)\n",
    "\n",
    "bernoulli_train_preds = bernoulli_clf.predict(nb_X_train_sex)\n",
    "bernoulli_test_preds = bernoulli_clf.predict(nb_X_test_sex)\n",
    "\n",
    "bernoulli_train_accuracy = accuracy_score(nb_y_train_sex, bernoulli_train_preds)\n",
    "bernoulli_test_accuracy = accuracy_score(nb_y_test_sex, bernoulli_test_preds)\n",
    "\n",
    "print(\"Accuracy on Training Set from BernoulliNB Classifier: {:.4}%\".format(bernoulli_train_accuracy * 100))\n",
    "print(\"Accuracy on Testing Set from BernoulliNB Classifier: {:.4}%\".format(bernoulli_test_accuracy * 100))"
   ]
  },
  {
   "cell_type": "markdown",
   "metadata": {},
   "source": [
    "MultinomialNB"
   ]
  },
  {
   "cell_type": "code",
   "execution_count": 53,
   "metadata": {},
   "outputs": [
    {
     "name": "stdout",
     "output_type": "stream",
     "text": [
      "Accuracy on Training Set from MultinomialNB Classifier: 97.52%\n",
      "Accuracy on Testing Set from MultinomialNB Classifier:: 85.37%\n"
     ]
    }
   ],
   "source": [
    "mnb_clf = MultinomialNB()\n",
    "mnb_clf.fit(nb_X_train_sex, nb_y_train_sex)\n",
    "\n",
    "mnb_train_preds = mnb_clf.predict(nb_X_train_sex)\n",
    "mnb_test_preds = mnb_clf.predict(nb_X_test_sex)\n",
    "\n",
    "mnb_train_accuracy = accuracy_score(nb_y_train_sex, mnb_train_preds)\n",
    "mnb_test_accuracy = accuracy_score(nb_y_test_sex, mnb_test_preds)\n",
    "\n",
    "print(\"Accuracy on Training Set from MultinomialNB Classifier: {:.4}%\".format(mnb_train_accuracy * 100))\n",
    "print(\"Accuracy on Testing Set from MultinomialNB Classifier:: {:.4}%\".format(mnb_test_accuracy * 100))"
   ]
  },
  {
   "cell_type": "code",
   "execution_count": null,
   "metadata": {},
   "outputs": [],
   "source": []
  },
  {
   "cell_type": "code",
   "execution_count": 103,
   "metadata": {},
   "outputs": [],
   "source": [
    "\n",
    "    "
   ]
  },
  {
   "cell_type": "code",
   "execution_count": null,
   "metadata": {},
   "outputs": [],
   "source": []
  },
  {
   "cell_type": "markdown",
   "metadata": {},
   "source": [
    "### Pipeline Implementation - Classifiers for Author & Period"
   ]
  },
  {
   "cell_type": "markdown",
   "metadata": {},
   "source": [
    "We've built functions here that will take in an intialized GridSearchCV, perform it on the given transformed vectors, and return the best results.\n",
    "\n",
    "If you use the 'multi-grid' and the full transformation_vectors set, the functions will test multiple classifiers (with tuning) for all six vector transformations (BOW, BOW bigram, BOW trigram, TFIDF, TFIDF bigram, TFIDF trigram). As you might imagine, this take a very long time to run. We don't recommend running it that way unless you have some significant computing power or time. <br><br>\n",
    "We limited it to only the unigram/bigram transformations, but we did run the multi pipeline. On a laptop, it took about (and things got pretty hot). You can also individually build classifiers below. "
   ]
  },
  {
   "cell_type": "code",
   "execution_count": 134,
   "metadata": {},
   "outputs": [],
   "source": [
    "#Functions \n",
    "\n",
    "def test_classifiers(transformed_vectors, grid, labels):\n",
    "    results_dict = {}\n",
    "    \n",
    "    for named_matrix, sparse_matrix in transformed_vectors.items():\n",
    "        X_train, X_test, y_train, y_test = train_test_split(sparse_matrix, labels)\n",
    "        grid.fit(X_train, y_train)\n",
    "        results_dict[named_matrix + ' results'] = [grid.best_score_, grid.best_params_, grid.score(X_test, y_test)]\n",
    "    \n",
    "    return results_dict\n",
    "    "
   ]
  },
  {
   "cell_type": "code",
   "execution_count": 135,
   "metadata": {},
   "outputs": [],
   "source": [
    "from sklearn.ensemble import RandomForestClassifier, AdaBoostClassifier\n",
    "from sklearn.neighbors import KNeighborsClassifier"
   ]
  },
  {
   "cell_type": "code",
   "execution_count": 138,
   "metadata": {},
   "outputs": [],
   "source": [
    "# Multi-classifier Pipeline \n",
    "\n",
    "# NOTE- currently not working \n",
    "\n",
    "multi_param_grid = [\n",
    "    {'classifier':[RandomForestClassifier()], 'classifier__n_estimators': [50, 150, 250], \n",
    "    'classifier__max_depth': [2, 4, 6, 8, 10]},\n",
    "    \n",
    "    {'classifier':[AdaBoostClassifier()], 'classifier__n_estimators': [50, 150, 250], \n",
    "    'classifier__learning_rate': [0.0001, 0.001, 0.01, 0.1, 1]},\n",
    "    \n",
    "    {'classifier':[KNeighborsClassifier()], 'classifier__n_neighbors': [5, 15, 25]}\n",
    "    ]\n",
    "\n",
    "multi_pipe = make_pipeline(RandomForestClassifier())\n",
    "\n",
    "multi_grid = GridSearchCV(multi_pipe, multi_param_grid, cv = 5, scoring = \"accuracy\")"
   ]
  },
  {
   "cell_type": "code",
   "execution_count": null,
   "metadata": {
    "scrolled": true
   },
   "outputs": [],
   "source": []
  },
  {
   "cell_type": "code",
   "execution_count": 142,
   "metadata": {},
   "outputs": [],
   "source": [
    "author_classifier_results = test_classifiers(transformed_vectors, multi_grid, all_labels['author'])\n",
    "%time "
   ]
  },
  {
   "cell_type": "code",
   "execution_count": null,
   "metadata": {},
   "outputs": [],
   "source": [
    "period_classifier_results = test_classifiers(transformed_vectors, multi_grid, all_labels['period'])\n",
    "%time "
   ]
  },
  {
   "cell_type": "code",
   "execution_count": null,
   "metadata": {},
   "outputs": [],
   "source": [
    "sex_classifier_results = test_classifiers(transformed_vectors, multi_grid, all_labels['sex'])\n",
    "%time "
   ]
  },
  {
   "cell_type": "code",
   "execution_count": null,
   "metadata": {},
   "outputs": [],
   "source": []
  },
  {
   "cell_type": "markdown",
   "metadata": {},
   "source": [
    "### Random Forest"
   ]
  },
  {
   "cell_type": "code",
   "execution_count": 72,
   "metadata": {},
   "outputs": [],
   "source": [
    "from sklearn.ensemble import RandomForestClassifier "
   ]
  },
  {
   "cell_type": "code",
   "execution_count": 150,
   "metadata": {},
   "outputs": [],
   "source": [
    "rf_param_grid = {'randomforestclassifier__n_estimators': [150, 250, 350], \n",
    "                'randomforestclassifier__max_depth': [5, 10, 15]}\n",
    "\n",
    "rf_pipe = make_pipeline(RandomForestClassifier())\n",
    "\n",
    "rf_grid = GridSearchCV(rf_pipe, rf_param_grid, cv = 5, scoring = \"accuracy\")"
   ]
  },
  {
   "cell_type": "code",
   "execution_count": null,
   "metadata": {},
   "outputs": [],
   "source": [
    "rf_author_results = test_classifiers(transformed_vectors, rf_grid, all_labels['author'])\n",
    "%time"
   ]
  },
  {
   "cell_type": "code",
   "execution_count": null,
   "metadata": {},
   "outputs": [],
   "source": [
    "rf_period_results = test_classifiers(transformed_vectors, rf_grid, all_labels['period'])\n",
    "%time"
   ]
  },
  {
   "cell_type": "code",
   "execution_count": null,
   "metadata": {},
   "outputs": [],
   "source": [
    "rf_sex_results = test_classifiers(transformed_vectors, rf_grid, all_labels['sex'])\n",
    "%time"
   ]
  },
  {
   "cell_type": "markdown",
   "metadata": {},
   "source": [
    "### Adaboost"
   ]
  },
  {
   "cell_type": "code",
   "execution_count": null,
   "metadata": {},
   "outputs": [],
   "source": [
    "from sklearn.ensemble import AdaBoostClassifier"
   ]
  },
  {
   "cell_type": "code",
   "execution_count": null,
   "metadata": {},
   "outputs": [],
   "source": [
    "ada = AdaBoostClassifier()\n",
    "\n",
    "ada_param_grid = {'adaboostclassifier__n_estimators': [50, 150, 250], \n",
    "                 'adaboostclassifier__learning_rate': [0.0001, 0.001, 0.01, 0.1, 1]}\n",
    "\n",
    "ada_pipe = make_pipeline(ada)\n",
    "\n",
    "ada_grid = GridSearchCV(ada_pipe, ada_param_grid, cv = 5, scoring = \"accuracy\")"
   ]
  },
  {
   "cell_type": "code",
   "execution_count": null,
   "metadata": {},
   "outputs": [],
   "source": [
    "ada_author_results = test_classifiers(transformed_vectors, ada_grid, all_labels['author'])\n",
    "%time"
   ]
  },
  {
   "cell_type": "code",
   "execution_count": null,
   "metadata": {},
   "outputs": [],
   "source": [
    "ada_period_results = test_classifiers(transformed_vectors, ada_grid, all_labels['period'])\n",
    "%time"
   ]
  },
  {
   "cell_type": "code",
   "execution_count": null,
   "metadata": {},
   "outputs": [],
   "source": [
    "ada_sex_results = test_classifiers(transformed_vectors, ada_grid, all_labels['sex'])\n",
    "%time"
   ]
  },
  {
   "cell_type": "markdown",
   "metadata": {},
   "source": [
    "### K-Nearest Neighbors"
   ]
  },
  {
   "cell_type": "code",
   "execution_count": 77,
   "metadata": {},
   "outputs": [],
   "source": [
    "from sklearn.neighbors import KNeighborsClassifier"
   ]
  },
  {
   "cell_type": "code",
   "execution_count": null,
   "metadata": {},
   "outputs": [],
   "source": [
    "KNeighborsClassifier()"
   ]
  },
  {
   "cell_type": "code",
   "execution_count": null,
   "metadata": {},
   "outputs": [],
   "source": []
  },
  {
   "cell_type": "code",
   "execution_count": null,
   "metadata": {},
   "outputs": [],
   "source": []
  },
  {
   "cell_type": "code",
   "execution_count": null,
   "metadata": {},
   "outputs": [],
   "source": []
  },
  {
   "cell_type": "code",
   "execution_count": null,
   "metadata": {},
   "outputs": [],
   "source": []
  }
 ],
 "metadata": {
  "kernelspec": {
   "display_name": "Python 3",
   "language": "python",
   "name": "python3"
  },
  "language_info": {
   "codemirror_mode": {
    "name": "ipython",
    "version": 3
   },
   "file_extension": ".py",
   "mimetype": "text/x-python",
   "name": "python",
   "nbconvert_exporter": "python",
   "pygments_lexer": "ipython3",
   "version": "3.5.6"
  }
 },
 "nbformat": 4,
 "nbformat_minor": 2
}
