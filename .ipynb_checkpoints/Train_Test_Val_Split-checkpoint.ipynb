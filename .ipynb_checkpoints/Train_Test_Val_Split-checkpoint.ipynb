{
 "cells": [
  {
   "cell_type": "code",
   "execution_count": 36,
   "metadata": {},
   "outputs": [],
   "source": [
    "import pandas as pd\n",
    "import numpy as np\n",
    "import gensim\n",
    "import os\n",
    "from gensim.models.doc2vec import *"
   ]
  },
  {
   "cell_type": "code",
   "execution_count": 37,
   "metadata": {},
   "outputs": [],
   "source": [
    "df = pd.read_csv(os.getcwd() + '/' + '100Paragraphs_150Words.csv', index_col = 0)"
   ]
  },
  {
   "cell_type": "code",
   "execution_count": 38,
   "metadata": {},
   "outputs": [
    {
     "data": {
      "text/html": [
       "<div>\n",
       "<style scoped>\n",
       "    .dataframe tbody tr th:only-of-type {\n",
       "        vertical-align: middle;\n",
       "    }\n",
       "\n",
       "    .dataframe tbody tr th {\n",
       "        vertical-align: top;\n",
       "    }\n",
       "\n",
       "    .dataframe thead th {\n",
       "        text-align: right;\n",
       "    }\n",
       "</style>\n",
       "<table border=\"1\" class=\"dataframe\">\n",
       "  <thead>\n",
       "    <tr style=\"text-align: right;\">\n",
       "      <th></th>\n",
       "      <th>text</th>\n",
       "      <th>author</th>\n",
       "      <th>sex</th>\n",
       "      <th>period</th>\n",
       "    </tr>\n",
       "  </thead>\n",
       "  <tbody>\n",
       "    <tr>\n",
       "      <th>0</th>\n",
       "      <td>than ever over at the house the main building ...</td>\n",
       "      <td>KateChopin</td>\n",
       "      <td>female</td>\n",
       "      <td>realism</td>\n",
       "    </tr>\n",
       "    <tr>\n",
       "      <th>1</th>\n",
       "      <td>lost in some inward maze of contemplation or t...</td>\n",
       "      <td>KateChopin</td>\n",
       "      <td>female</td>\n",
       "      <td>realism</td>\n",
       "    </tr>\n",
       "    <tr>\n",
       "      <th>2</th>\n",
       "      <td>about himself he was very young and did not kn...</td>\n",
       "      <td>KateChopin</td>\n",
       "      <td>female</td>\n",
       "      <td>realism</td>\n",
       "    </tr>\n",
       "    <tr>\n",
       "      <th>3</th>\n",
       "      <td>his wife with her inattention her habitual neg...</td>\n",
       "      <td>KateChopin</td>\n",
       "      <td>female</td>\n",
       "      <td>realism</td>\n",
       "    </tr>\n",
       "    <tr>\n",
       "      <th>4</th>\n",
       "      <td>on hand to say goodby to him his wife stood sm...</td>\n",
       "      <td>KateChopin</td>\n",
       "      <td>female</td>\n",
       "      <td>realism</td>\n",
       "    </tr>\n",
       "  </tbody>\n",
       "</table>\n",
       "</div>"
      ],
      "text/plain": [
       "                                                text      author     sex  \\\n",
       "0  than ever over at the house the main building ...  KateChopin  female   \n",
       "1  lost in some inward maze of contemplation or t...  KateChopin  female   \n",
       "2  about himself he was very young and did not kn...  KateChopin  female   \n",
       "3  his wife with her inattention her habitual neg...  KateChopin  female   \n",
       "4  on hand to say goodby to him his wife stood sm...  KateChopin  female   \n",
       "\n",
       "    period  \n",
       "0  realism  \n",
       "1  realism  \n",
       "2  realism  \n",
       "3  realism  \n",
       "4  realism  "
      ]
     },
     "execution_count": 38,
     "metadata": {},
     "output_type": "execute_result"
    }
   ],
   "source": [
    "df.head()"
   ]
  },
  {
   "cell_type": "code",
   "execution_count": 39,
   "metadata": {},
   "outputs": [
    {
     "data": {
      "text/plain": [
       "['MarkTwain',\n",
       " 'JackLondon',\n",
       " 'JaneAustin',\n",
       " 'FScottFitzgerald',\n",
       " 'MaryShelley',\n",
       " 'KateChopin',\n",
       " 'MaryWollstonecraft',\n",
       " 'CharlesDickens',\n",
       " 'MargaretFuller',\n",
       " 'NathanielHawthorne',\n",
       " 'EdithWharton',\n",
       " 'HenryDavidThoreau',\n",
       " 'JohnLocke',\n",
       " 'VirginiaWoolf']"
      ]
     },
     "execution_count": 39,
     "metadata": {},
     "output_type": "execute_result"
    }
   ],
   "source": [
    "authors = list(set((df['author'])))\n",
    "authors"
   ]
  },
  {
   "cell_type": "code",
   "execution_count": 40,
   "metadata": {},
   "outputs": [],
   "source": [
    "# split \n",
    "def split_by_authors():\n",
    "    df_split ={}\n",
    "    for author in authors:\n",
    "        df_ = df[df['author'] == author]\n",
    "        df_split[author] = df_\n",
    "    return df_split\n",
    "\n",
    "df_by_authors = split_by_authors()"
   ]
  },
  {
   "cell_type": "code",
   "execution_count": 41,
   "metadata": {},
   "outputs": [],
   "source": [
    "train_set_df = pd.DataFrame(columns=list(df.columns))\n",
    "test_set_df = pd.DataFrame(columns=list(df.columns))\n",
    "validation_set_df = pd.DataFrame(columns=list(df.columns))\n",
    "for author in authors:\n",
    "    train_set = df_by_authors[author].sample(70)\n",
    "    test_val_set = df_by_authors[author].drop(train_set.index)\n",
    "    validation_set = test_val_set.sample(5)\n",
    "    test_set = test_val_set.drop(validation_set.index)\n",
    "    train_set_df = pd.concat([train_set_df,train_set])\n",
    "    test_set_df = pd.concat([test_set_df,test_set])\n",
    "    validation_set_df = pd.concat([validation_set_df,validation_set])"
   ]
  },
  {
   "cell_type": "code",
   "execution_count": 42,
   "metadata": {},
   "outputs": [],
   "source": [
    "train_set_df = train_set_df.reset_index()\n",
    "test_set_df = test_set_df.reset_index()\n",
    "validation_set_df = validation_set_df.reset_index()"
   ]
  },
  {
   "cell_type": "code",
   "execution_count": null,
   "metadata": {},
   "outputs": [],
   "source": []
  },
  {
   "cell_type": "code",
   "execution_count": 47,
   "metadata": {},
   "outputs": [],
   "source": [
    "# Create TaggedDocument objects for train_corpus\n",
    "train_corpus = []\n",
    "for i in range(0, len(train_set_df)):\n",
    "    doc = TaggedDocument(train_set_df['text'][i].split(), [train_set_df['author'][i], \n",
    "                                                            train_set_df['period'][i], \n",
    "                                                            train_set_df['sex'][i]])   \n",
    "    train_corpus.append(doc)"
   ]
  },
  {
   "cell_type": "code",
   "execution_count": 48,
   "metadata": {
    "scrolled": false
   },
   "outputs": [
    {
     "data": {
      "text/plain": [
       "TaggedDocument(words=['elevations', 'and', 'depressions', 'suggested', 'the', 'swelling', 'and', 'subsiding', 'undulations', 'of', 'the', 'sea', 'in', 'the', 'afternoon', 'the', 'returning', 'prodigal', 'made', 'constant', 'deflections', 'from', 'his', 'course', 'to', 'see', 'if', 'by', 'ascending', 'some', 'hillock', 'he', 'might', 'not', 'pierce', 'the', 'distance', 'and', 'catch', 'a', 'glimpse', 'of', 'his', 'home', 'at', 'last', 'he', 'was', 'successful', 'and', 'cried', 'out', 'excitedly', 'there', 'is', 'the', 'village', 'my', 'prince', 'and', 'there', 'is', 'the', 'hall', 'close', 'by', 'you', 'may', 'see', 'the', 'towers', 'from', 'here', 'and', 'that', 'wood', 'therethat', 'is', 'my', 'fathers', 'park', 'ah', 'now', 'thoult', 'know', 'what', 'state', 'and', 'grandeur', 'be', 'a', 'house', 'with', 'seventy', 'roomsthink', 'of', 'thatand', 'seven', 'and', 'twenty', 'servants', 'a', 'brave', 'lodging', 'for', 'such', 'as', 'we', 'is', 'it', 'not', 'so', 'come', 'let', 'us', 'speedmy', 'impatience', 'will', 'not', 'brook', 'further', 'delay', 'all', 'possible', 'hurry', 'was', 'made', 'still', 'it', 'was', 'after', 'three', 'oclock', 'before', 'the', 'village', 'was', 'reached', 'the', 'travellers', 'scampered', 'through', 'it', 'hendons', 'tongue', 'going', 'all', 'the', 'time', 'here', 'is'], tags=['MarkTwain', 'realism', 'male'])"
      ]
     },
     "execution_count": 48,
     "metadata": {},
     "output_type": "execute_result"
    }
   ],
   "source": [
    "train_corpus[10]"
   ]
  },
  {
   "cell_type": "code",
   "execution_count": 82,
   "metadata": {},
   "outputs": [],
   "source": [
    "# Create TaggedDocument objects for test_corpus\n",
    "test_corpus = []\n",
    "for i in range(0, len(test_set_df)):\n",
    "    doc = test_set_df['text'][i].split()\n",
    "    test_corpus.append(doc)"
   ]
  },
  {
   "cell_type": "code",
   "execution_count": 85,
   "metadata": {},
   "outputs": [
    {
     "data": {
      "text/plain": [
       "['being',\n",
       " 'twenty',\n",
       " 'then',\n",
       " 'and',\n",
       " 'arthur',\n",
       " 'twentytwo',\n",
       " 'there',\n",
       " 'is',\n",
       " 'none',\n",
       " 'other',\n",
       " 'of',\n",
       " 'us',\n",
       " 'but',\n",
       " 'the',\n",
       " 'lady',\n",
       " 'edith',\n",
       " 'my',\n",
       " 'cousinshe',\n",
       " 'was',\n",
       " 'sixteen',\n",
       " 'thenbeautiful',\n",
       " 'gentle',\n",
       " 'good',\n",
       " 'the',\n",
       " 'daughter',\n",
       " 'of',\n",
       " 'an',\n",
       " 'earl',\n",
       " 'the',\n",
       " 'last',\n",
       " 'of',\n",
       " 'her',\n",
       " 'race',\n",
       " 'heiress',\n",
       " 'of',\n",
       " 'a',\n",
       " 'great',\n",
       " 'fortune',\n",
       " 'and',\n",
       " 'a',\n",
       " 'lapsed',\n",
       " 'title',\n",
       " 'my',\n",
       " 'father',\n",
       " 'was',\n",
       " 'her',\n",
       " 'guardian',\n",
       " 'i',\n",
       " 'loved',\n",
       " 'her',\n",
       " 'and',\n",
       " 'she',\n",
       " 'loved',\n",
       " 'me',\n",
       " 'but',\n",
       " 'she',\n",
       " 'was',\n",
       " 'betrothed',\n",
       " 'to',\n",
       " 'arthur',\n",
       " 'from',\n",
       " 'the',\n",
       " 'cradle',\n",
       " 'and',\n",
       " 'sir',\n",
       " 'richard',\n",
       " 'would',\n",
       " 'not',\n",
       " 'suffer',\n",
       " 'the',\n",
       " 'contract',\n",
       " 'to',\n",
       " 'be',\n",
       " 'broken',\n",
       " 'arthur',\n",
       " 'loved',\n",
       " 'another',\n",
       " 'maid',\n",
       " 'and',\n",
       " 'bade',\n",
       " 'us',\n",
       " 'be',\n",
       " 'of',\n",
       " 'good',\n",
       " 'cheer',\n",
       " 'and',\n",
       " 'hold',\n",
       " 'fast',\n",
       " 'to',\n",
       " 'the',\n",
       " 'hope',\n",
       " 'that',\n",
       " 'delay',\n",
       " 'and',\n",
       " 'luck',\n",
       " 'together',\n",
       " 'would',\n",
       " 'some',\n",
       " 'day',\n",
       " 'give',\n",
       " 'success',\n",
       " 'to',\n",
       " 'our',\n",
       " 'several',\n",
       " 'causes',\n",
       " 'hugh',\n",
       " 'loved',\n",
       " 'the',\n",
       " 'lady',\n",
       " 'ediths',\n",
       " 'fortune',\n",
       " 'though',\n",
       " 'in',\n",
       " 'truth',\n",
       " 'he',\n",
       " 'said',\n",
       " 'it',\n",
       " 'was',\n",
       " 'herself',\n",
       " 'he',\n",
       " 'lovedbut',\n",
       " 'then',\n",
       " 'twas',\n",
       " 'his',\n",
       " 'way',\n",
       " 'alway',\n",
       " 'to',\n",
       " 'say',\n",
       " 'the',\n",
       " 'one',\n",
       " 'thing',\n",
       " 'and',\n",
       " 'mean',\n",
       " 'the',\n",
       " 'other',\n",
       " 'but',\n",
       " 'he',\n",
       " 'lost',\n",
       " 'his',\n",
       " 'arts',\n",
       " 'upon',\n",
       " 'the',\n",
       " 'girl',\n",
       " 'he',\n",
       " 'could',\n",
       " 'deceive',\n",
       " 'my',\n",
       " 'father',\n",
       " 'but',\n",
       " 'none',\n",
       " 'else']"
      ]
     },
     "execution_count": 85,
     "metadata": {},
     "output_type": "execute_result"
    }
   ],
   "source": [
    "test_corpus[10]"
   ]
  },
  {
   "cell_type": "code",
   "execution_count": 49,
   "metadata": {},
   "outputs": [],
   "source": [
    "# Declare gyperparamters \n",
    "vec_size = 20\n",
    "min_count = 2\n",
    "epochs = 20\n",
    "alpha = 0.025\n",
    "min_alpha = 0.025"
   ]
  },
  {
   "cell_type": "code",
   "execution_count": 50,
   "metadata": {},
   "outputs": [
    {
     "name": "stderr",
     "output_type": "stream",
     "text": [
      "/anaconda3/lib/python3.5/site-packages/gensim/models/doc2vec.py:366: UserWarning: The parameter `size` is deprecated, will be removed in 4.0.0, use `vector_size` instead.\n",
      "  warnings.warn(\"The parameter `size` is deprecated, will be removed in 4.0.0, use `vector_size` instead.\")\n"
     ]
    },
    {
     "name": "stdout",
     "output_type": "stream",
     "text": [
      "CPU times: user 5.51 s, sys: 385 ms, total: 5.9 s\n",
      "Wall time: 2.77 s\n"
     ]
    }
   ],
   "source": [
    "# Doc2Vec - initializing the model\n",
    "\n",
    "model = Doc2Vec(vector_size=vec_size,\n",
    "                min_count=min_count,\n",
    "                epochs=epochs,\n",
    "                alpha = alpha,\n",
    "                min_alpha = min_alpha)\n",
    "\n",
    "model.build_vocab(train_corpus)\n",
    "\n",
    "%time model.train(train_corpus, total_examples=model.corpus_count, epochs=model.epochs)"
   ]
  },
  {
   "cell_type": "code",
   "execution_count": 58,
   "metadata": {},
   "outputs": [
    {
     "data": {
      "text/plain": [
       "23"
      ]
     },
     "execution_count": 58,
     "metadata": {},
     "output_type": "execute_result"
    }
   ],
   "source": [
    "len(model.docvecs)\n",
    "# should be 23\n",
    "# two for gender, seven for periods, and fourteen for authors "
   ]
  },
  {
   "cell_type": "code",
   "execution_count": 65,
   "metadata": {},
   "outputs": [
    {
     "name": "stdout",
     "output_type": "stream",
     "text": [
      "0\n",
      "[('male', 0.7393288612365723), ('female', 0.44753891229629517), ('realism', 0.40220773220062256), ('enlightenment', 0.37848934531211853), ('MarkTwain', 0.35997718572616577), ('JohnLocke', 0.2560630440711975), ('JackLondon', 0.20903775095939636), ('MargaretFuller', 0.19441905617713928), ('naturalism', 0.1451183557510376), ('MaryWollstonecraft', 0.13923481106758118), ('transcendentalism', 0.12146958708763123), ('gothic/romantic', 0.10087992250919342), ('MaryShelley', 0.08455996215343475), ('early_modernism', 0.06909826397895813), ('VirginiaWoolf', 0.06489501148462296), ('JaneAustin', 0.05965101346373558), ('KateChopin', 0.024695560336112976), ('FScottFitzgerald', 0.016332872211933136), ('NathanielHawthorne', 0.0104474276304245), ('victorian', -0.01839788258075714), ('HenryDavidThoreau', -0.059180498123168945), ('EdithWharton', -0.07231567800045013), ('CharlesDickens', -0.08507438004016876)]\n"
     ]
    },
    {
     "ename": "ValueError",
     "evalue": "0 is not in list",
     "output_type": "error",
     "traceback": [
      "\u001b[0;31m---------------------------------------------------------------------------\u001b[0m",
      "\u001b[0;31mValueError\u001b[0m                                Traceback (most recent call last)",
      "\u001b[0;32m<ipython-input-65-0e82b66e6c5d>\u001b[0m in \u001b[0;36m<module>\u001b[0;34m()\u001b[0m\n\u001b[1;32m      6\u001b[0m     \u001b[0mprint\u001b[0m\u001b[0;34m(\u001b[0m\u001b[0mdoc_id\u001b[0m\u001b[0;34m)\u001b[0m\u001b[0;34m\u001b[0m\u001b[0m\n\u001b[1;32m      7\u001b[0m     \u001b[0mprint\u001b[0m\u001b[0;34m(\u001b[0m\u001b[0msims\u001b[0m\u001b[0;34m)\u001b[0m\u001b[0;34m\u001b[0m\u001b[0m\n\u001b[0;32m----> 8\u001b[0;31m     \u001b[0mrank\u001b[0m \u001b[0;34m=\u001b[0m \u001b[0;34m[\u001b[0m\u001b[0mdoc_id\u001b[0m \u001b[0;32mfor\u001b[0m \u001b[0mdoc_id\u001b[0m\u001b[0;34m,\u001b[0m \u001b[0msim\u001b[0m \u001b[0;32min\u001b[0m \u001b[0msims\u001b[0m\u001b[0;34m]\u001b[0m\u001b[0;34m.\u001b[0m\u001b[0mindex\u001b[0m\u001b[0;34m(\u001b[0m\u001b[0mdoc_id\u001b[0m\u001b[0;34m)\u001b[0m\u001b[0;34m\u001b[0m\u001b[0m\n\u001b[0m\u001b[1;32m      9\u001b[0m     \u001b[0mranks\u001b[0m\u001b[0;34m.\u001b[0m\u001b[0mappend\u001b[0m\u001b[0;34m(\u001b[0m\u001b[0mrank\u001b[0m\u001b[0;34m)\u001b[0m\u001b[0;34m\u001b[0m\u001b[0m\n\u001b[1;32m     10\u001b[0m \u001b[0;34m\u001b[0m\u001b[0m\n",
      "\u001b[0;31mValueError\u001b[0m: 0 is not in list"
     ]
    }
   ],
   "source": [
    "ranks = []\n",
    "second_ranks = []\n",
    "for doc_id in range(len(train_corpus)):\n",
    "    inferred_vector = model.infer_vector(train_corpus[doc_id].words)\n",
    "    sims = model.docvecs.most_similar([inferred_vector], topn=len(model.docvecs))\n",
    "    print(doc_id)\n",
    "    print(sims)\n",
    "    rank = [doc_id for doc_id, sim in sims].index(doc_id)\n",
    "    ranks.append(rank)\n",
    "    \n",
    "    second_ranks.append(sims[1])\n",
    "\n",
    "# see how many it got correct and how many it didn't \n",
    "collections.Counter(ranks)"
   ]
  },
  {
   "cell_type": "code",
   "execution_count": 79,
   "metadata": {},
   "outputs": [
    {
     "data": {
      "text/plain": [
       "TaggedDocument(words=['garden', 'lilies', 'kishwaukie', 'is', 'according', 'to', 'tradition', 'the', 'scene', 'of', 'a', 'famous', 'battle', 'and', 'its', 'many', 'grassy', 'mounds', 'contain', 'the', 'bones', 'of', 'the', 'valiant', 'on', 'these', 'waved', 'thickly', 'the', 'mysterious', 'purple', 'flower', 'of', 'which', 'i', 'have', 'spoken', 'before', 'i', 'think', 'it', 'springs', 'from', 'the', 'blood', 'of', 'the', 'indians', 'as', 'the', 'hyacinth', 'did', 'from', 'that', 'of', 'apollos', 'darling', 'the', 'ladies', 'of', 'our', 'hosts', 'family', 'at', 'oregon', 'when', 'they', 'first', 'went', 'there', 'after', 'all', 'the', 'pains', 'and', 'plagues', 'of', 'building', 'and', 'settling', 'found', 'their', 'first', 'pastime', 'in', 'opening', 'one', 'of', 'these', 'mounds', 'in', 'which', 'they', 'found', 'i', 'think', 'three', 'of', 'the', 'departed', 'seated', 'in', 'the', 'indian', 'fashion', 'one', 'of', 'these', 'same', 'ladies', 'as', 'she', 'was', 'making', 'bread', 'one', 'winter', 'morning', 'saw', 'from', 'the', 'window', 'a', 'deer', 'directly', 'before', 'the', 'house', 'she', 'ran', 'out', 'with', 'her', 'hands', 'covered', 'with', 'dough', 'calling', 'the', 'others', 'and', 'they', 'caught', 'him', 'bodily', 'before', 'he', 'had', 'time', 'to', 'escape'], tags=['MargaretFuller', 'transcendentalism', 'female'])"
      ]
     },
     "execution_count": 79,
     "metadata": {},
     "output_type": "execute_result"
    }
   ],
   "source": [
    "train_corpus[600]"
   ]
  },
  {
   "cell_type": "code",
   "execution_count": 80,
   "metadata": {
    "scrolled": true
   },
   "outputs": [
    {
     "data": {
      "text/plain": [
       "[('male', 0.6619716882705688),\n",
       " ('female', 0.645771861076355),\n",
       " ('transcendentalism', 0.3709269165992737),\n",
       " ('JackLondon', 0.3147083520889282),\n",
       " ('enlightenment', 0.25998300313949585),\n",
       " ('naturalism', 0.24273821711540222),\n",
       " ('MargaretFuller', 0.2334979921579361),\n",
       " ('JohnLocke', 0.18488836288452148),\n",
       " ('HenryDavidThoreau', 0.17259880900382996),\n",
       " ('MaryShelley', 0.16309726238250732)]"
      ]
     },
     "execution_count": 80,
     "metadata": {},
     "output_type": "execute_result"
    }
   ],
   "source": [
    "inferred_vector = model.infer_vector(train_corpus[600].words)\n",
    "sims = model.docvecs.most_similar([inferred_vector])\n",
    "# print(inferred_vector)\n",
    "sims"
   ]
  },
  {
   "cell_type": "code",
   "execution_count": 100,
   "metadata": {},
   "outputs": [
    {
     "data": {
      "text/plain": [
       "index                                                   271\n",
       "text      forest dictating his moods directing his actio...\n",
       "author                                           JackLondon\n",
       "sex                                                    male\n",
       "period                                           naturalism\n",
       "Name: 40, dtype: object"
      ]
     },
     "execution_count": 100,
     "metadata": {},
     "output_type": "execute_result"
    }
   ],
   "source": [
    "test_set_df.loc[40]"
   ]
  },
  {
   "cell_type": "code",
   "execution_count": 101,
   "metadata": {},
   "outputs": [
    {
     "data": {
      "text/plain": [
       "[('male', 0.6637985110282898),\n",
       " ('JackLondon', 0.5845301747322083),\n",
       " ('naturalism', 0.4354562759399414),\n",
       " ('female', 0.3857352137565613),\n",
       " ('VirginiaWoolf', 0.24178722500801086),\n",
       " ('JohnLocke', 0.23548045754432678),\n",
       " ('enlightenment', 0.22871579229831696),\n",
       " ('transcendentalism', 0.22441691160202026),\n",
       " ('realism', 0.21580369770526886),\n",
       " ('MargaretFuller', 0.19085478782653809)]"
      ]
     },
     "execution_count": 101,
     "metadata": {},
     "output_type": "execute_result"
    }
   ],
   "source": [
    "inferred_vector = model.infer_vector(test_corpus[40])\n",
    "sims = model.docvecs.most_similar([inferred_vector])\n",
    "# print(inferred_vector)\n",
    "sims"
   ]
  },
  {
   "cell_type": "code",
   "execution_count": null,
   "metadata": {},
   "outputs": [],
   "source": []
  }
 ],
 "metadata": {
  "kernelspec": {
   "display_name": "Python 3",
   "language": "python",
   "name": "python3"
  },
  "language_info": {
   "codemirror_mode": {
    "name": "ipython",
    "version": 3
   },
   "file_extension": ".py",
   "mimetype": "text/x-python",
   "name": "python",
   "nbconvert_exporter": "python",
   "pygments_lexer": "ipython3",
   "version": "3.5.6"
  }
 },
 "nbformat": 4,
 "nbformat_minor": 2
}
